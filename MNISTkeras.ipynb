{
  "nbformat": 4,
  "nbformat_minor": 0,
  "metadata": {
    "colab": {
      "name": "MNISTkeras.ipynb",
      "provenance": [],
      "collapsed_sections": [],
      "authorship_tag": "ABX9TyO3UK1lL47Fikq5MEWZSHp4",
      "include_colab_link": true
    },
    "kernelspec": {
      "name": "python3",
      "display_name": "Python 3"
    },
    "accelerator": "GPU"
  },
  "cells": [
    {
      "cell_type": "markdown",
      "metadata": {
        "id": "view-in-github",
        "colab_type": "text"
      },
      "source": [
        "<a href=\"https://colab.research.google.com/github/Vigneshthanga/258-Deep-Learning/blob/master/MNISTkeras.ipynb\" target=\"_parent\"><img src=\"https://colab.research.google.com/assets/colab-badge.svg\" alt=\"Open In Colab\"/></a>"
      ]
    },
    {
      "cell_type": "markdown",
      "metadata": {
        "id": "MgrISiNpF375",
        "colab_type": "text"
      },
      "source": [
        "##Importing tensorflow 2"
      ]
    },
    {
      "cell_type": "code",
      "metadata": {
        "id": "zbhFEzDPr-Zg",
        "colab_type": "code",
        "outputId": "1f33d048-f749-445e-f0af-58315d3e19fe",
        "colab": {
          "base_uri": "https://localhost:8080/",
          "height": 52
        }
      },
      "source": [
        "%tensorflow_version 2.x\n",
        "import tensorflow as tf\n",
        "print(tf.__version__)"
      ],
      "execution_count": 2,
      "outputs": [
        {
          "output_type": "stream",
          "text": [
            "TensorFlow 2.x selected.\n",
            "2.1.0\n"
          ],
          "name": "stdout"
        }
      ]
    },
    {
      "cell_type": "code",
      "metadata": {
        "id": "J7TipruZMbQG",
        "colab_type": "code",
        "outputId": "32741591-3b96-4997-898e-226ce972051a",
        "colab": {
          "base_uri": "https://localhost:8080/",
          "height": 69
        }
      },
      "source": [
        "from keras.datasets import mnist\n",
        "from matplotlib import pyplot as plt\n",
        "(x_train, y_train), (x_test, y_test) = mnist.load_data()"
      ],
      "execution_count": 3,
      "outputs": [
        {
          "output_type": "stream",
          "text": [
            "Downloading data from https://s3.amazonaws.com/img-datasets/mnist.npz\n"
          ],
          "name": "stdout"
        },
        {
          "output_type": "stream",
          "text": [
            "Using TensorFlow backend.\n"
          ],
          "name": "stderr"
        },
        {
          "output_type": "stream",
          "text": [
            "11493376/11490434 [==============================] - 0s 0us/step\n"
          ],
          "name": "stdout"
        }
      ]
    },
    {
      "cell_type": "code",
      "metadata": {
        "id": "SGs3OWBQDrZu",
        "colab_type": "code",
        "outputId": "962de832-9442-48a6-82b6-78c2a9406257",
        "colab": {
          "base_uri": "https://localhost:8080/",
          "height": 34
        }
      },
      "source": [
        "x_train.shape"
      ],
      "execution_count": 4,
      "outputs": [
        {
          "output_type": "execute_result",
          "data": {
            "text/plain": [
              "(60000, 28, 28)"
            ]
          },
          "metadata": {
            "tags": []
          },
          "execution_count": 4
        }
      ]
    },
    {
      "cell_type": "code",
      "metadata": {
        "id": "qALpqhBjrZ5C",
        "colab_type": "code",
        "colab": {}
      },
      "source": [
        "x_train = x_train.reshape(600,100,28,28)"
      ],
      "execution_count": 0,
      "outputs": []
    },
    {
      "cell_type": "code",
      "metadata": {
        "id": "cCI-Kv8yrXiP",
        "colab_type": "code",
        "outputId": "e8cd40cf-51ff-4686-90b3-4b0d7d0cce26",
        "colab": {
          "base_uri": "https://localhost:8080/",
          "height": 72
        }
      },
      "source": [
        "from keras.preprocessing.image import ImageDataGenerator\n",
        "datagen = ImageDataGenerator(\n",
        "        featurewise_center=False,  # set input mean to 0 over the dataset\n",
        "        samplewise_center=False,  # set each sample mean to 0\n",
        "        featurewise_std_normalization=False,  # divide inputs by std of the dataset\n",
        "        samplewise_std_normalization=False,  # divide each input by its std\n",
        "        zca_whitening=False,  # apply ZCA whitening\n",
        "        rotation_range=10,  # randomly rotate images in the range (degrees, 0 to 180)\n",
        "        zoom_range = 0.1, # Randomly zoom image \n",
        "        width_shift_range=0.1,  # randomly shift images horizontally (fraction of total width)\n",
        "        height_shift_range=0.1,  # randomly shift images vertically (fraction of total height)\n",
        "        horizontal_flip=False,  # randomly flip images\n",
        "        vertical_flip=False)  # randomly flip images\n",
        "\n",
        "\n",
        "datagen.fit(x_train)"
      ],
      "execution_count": 6,
      "outputs": [
        {
          "output_type": "stream",
          "text": [
            "/usr/local/lib/python3.6/dist-packages/keras_preprocessing/image/image_data_generator.py:940: UserWarning: Expected input to be images (as Numpy array) following the data format convention \"channels_last\" (channels on axis 3), i.e. expected either 1, 3 or 4 channels on axis 3. However, it was passed an array with shape (600, 100, 28, 28) (28 channels).\n",
            "  ' channels).')\n"
          ],
          "name": "stderr"
        }
      ]
    },
    {
      "cell_type": "code",
      "metadata": {
        "id": "KERnDM7TBPdo",
        "colab_type": "code",
        "colab": {}
      },
      "source": [
        "x_train = x_train.reshape(60000,28,28)"
      ],
      "execution_count": 0,
      "outputs": []
    },
    {
      "cell_type": "code",
      "metadata": {
        "id": "Gad_tKXBBBfV",
        "colab_type": "code",
        "outputId": "75270bf0-51b7-4506-be3d-a16776289859",
        "colab": {
          "base_uri": "https://localhost:8080/",
          "height": 538
        }
      },
      "source": [
        "import tensorflow as tf\n",
        "from __future__ import print_function\n",
        "import keras\n",
        "from tensorflow.keras.datasets import mnist\n",
        "#from keras.models import Sequential\n",
        "from tensorflow.keras.layers import Dense, Dropout, Flatten\n",
        "#from keras.layers import Conv2D, MaxPooling2D\n",
        "from tensorflow.keras import backend as K\n",
        "batch_size = 64\n",
        "num_classes = 10\n",
        "epochs = 12\n",
        "\n",
        "# input image dimensions\n",
        "img_rows, img_cols = 28, 28\n",
        "\n",
        "# the data, split between train and test sets\n",
        "(x_train, y_train), (x_test, y_test) = mnist.load_data()\n",
        "\n",
        "if K.image_data_format() == 'channels_first':\n",
        "    x_train = x_train.reshape(x_train.shape[0], 1, img_rows, img_cols)\n",
        "    x_test = x_test.reshape(x_test.shape[0], 1, img_rows, img_cols)\n",
        "    input_shape = (1, img_rows, img_cols)\n",
        "else:\n",
        "    x_train = x_train.reshape(x_train.shape[0], img_rows, img_cols, 1)\n",
        "    x_test = x_test.reshape(x_test.shape[0], img_rows, img_cols, 1)\n",
        "    input_shape = (img_rows, img_cols, 1)\n",
        "\n",
        "x_train = x_train.astype('float32')\n",
        "x_test = x_test.astype('float32')\n",
        "x_train /= 255\n",
        "x_test /= 255\n",
        "print('x_train shape:', x_train.shape)\n",
        "print(x_train.shape[0], 'train samples')\n",
        "print(x_test.shape[0], 'test samples')\n",
        "\n",
        "y_train = keras.utils.to_categorical(y_train, num_classes)\n",
        "y_test = keras.utils.to_categorical(y_test, num_classes)\n",
        "model = tf.keras.Sequential()\n",
        "model.add(Flatten(input_shape=input_shape))\n",
        "model.add(Dense(64, activation='relu'))\n",
        "model.add(Dropout(0.25))\n",
        "model.add(Dense(64, activation='relu'))\n",
        "model.add(Dense(num_classes, activation='sigmoid'))\n",
        "\n",
        "model.compile(loss=tf.keras.losses.mean_squared_error,\n",
        "              metrics=[['accuracy']])\n",
        "model.fit(x_train, y_train,\n",
        "          batch_size=batch_size,\n",
        "          epochs=epochs,\n",
        "          verbose=1,\n",
        "          validation_data=(x_test, y_test))\n",
        "score = model.evaluate(x_test, y_test, verbose=0)\n",
        "print('Test loss:', score[0])\n",
        "print('Test accuracy:', score[1])"
      ],
      "execution_count": 0,
      "outputs": [
        {
          "output_type": "stream",
          "text": [
            "x_train shape: (60000, 28, 28, 1)\n",
            "60000 train samples\n",
            "10000 test samples\n",
            "Train on 60000 samples, validate on 10000 samples\n",
            "Epoch 1/12\n",
            "60000/60000 [==============================] - 4s 61us/sample - loss: 0.0233 - accuracy: 0.8614 - val_loss: 0.0094 - val_accuracy: 0.9423\n",
            "Epoch 2/12\n",
            "60000/60000 [==============================] - 3s 54us/sample - loss: 0.0110 - accuracy: 0.9335 - val_loss: 0.0076 - val_accuracy: 0.9529\n",
            "Epoch 3/12\n",
            "60000/60000 [==============================] - 3s 54us/sample - loss: 0.0089 - accuracy: 0.9449 - val_loss: 0.0063 - val_accuracy: 0.9589\n",
            "Epoch 4/12\n",
            "60000/60000 [==============================] - 3s 55us/sample - loss: 0.0079 - accuracy: 0.9512 - val_loss: 0.0057 - val_accuracy: 0.9638\n",
            "Epoch 5/12\n",
            "60000/60000 [==============================] - 3s 53us/sample - loss: 0.0072 - accuracy: 0.9565 - val_loss: 0.0053 - val_accuracy: 0.9663\n",
            "Epoch 6/12\n",
            "60000/60000 [==============================] - 3s 53us/sample - loss: 0.0067 - accuracy: 0.9585 - val_loss: 0.0051 - val_accuracy: 0.9674\n",
            "Epoch 7/12\n",
            "60000/60000 [==============================] - 3s 54us/sample - loss: 0.0064 - accuracy: 0.9606 - val_loss: 0.0048 - val_accuracy: 0.9686\n",
            "Epoch 8/12\n",
            "60000/60000 [==============================] - 3s 52us/sample - loss: 0.0060 - accuracy: 0.9636 - val_loss: 0.0048 - val_accuracy: 0.9704\n",
            "Epoch 9/12\n",
            "60000/60000 [==============================] - 3s 55us/sample - loss: 0.0058 - accuracy: 0.9648 - val_loss: 0.0047 - val_accuracy: 0.9707\n",
            "Epoch 10/12\n",
            "60000/60000 [==============================] - 3s 54us/sample - loss: 0.0057 - accuracy: 0.9652 - val_loss: 0.0044 - val_accuracy: 0.9723\n",
            "Epoch 11/12\n",
            "60000/60000 [==============================] - 3s 54us/sample - loss: 0.0054 - accuracy: 0.9671 - val_loss: 0.0045 - val_accuracy: 0.9720\n",
            "Epoch 12/12\n",
            "60000/60000 [==============================] - 3s 54us/sample - loss: 0.0052 - accuracy: 0.9684 - val_loss: 0.0045 - val_accuracy: 0.9709\n",
            "Test loss: 0.004538033916827343\n",
            "Test accuracy: 0.9709\n"
          ],
          "name": "stdout"
        }
      ]
    }
  ]
}
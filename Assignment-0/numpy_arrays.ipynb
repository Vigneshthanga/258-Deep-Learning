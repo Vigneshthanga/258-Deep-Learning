{
  "nbformat": 4,
  "nbformat_minor": 0,
  "metadata": {
    "colab": {
      "name": "numpy_arrays.ipynb",
      "provenance": [],
      "authorship_tag": "ABX9TyPvkSnHfFhXxWVcHz1YWTnE",
      "include_colab_link": true
    },
    "kernelspec": {
      "name": "python3",
      "display_name": "Python 3"
    }
  },
  "cells": [
    {
      "cell_type": "markdown",
      "metadata": {
        "id": "view-in-github",
        "colab_type": "text"
      },
      "source": [
        "<a href=\"https://colab.research.google.com/github/Vigneshthanga/258-Deep-Learning/blob/master/Assignment-0/numpy_arrays.ipynb\" target=\"_parent\"><img src=\"https://colab.research.google.com/assets/colab-badge.svg\" alt=\"Open In Colab\"/></a>"
      ]
    },
    {
      "cell_type": "markdown",
      "metadata": {
        "id": "g8UVmM9TEclr",
        "colab_type": "text"
      },
      "source": [
        "#Basics of Numpy Arrays"
      ]
    },
    {
      "cell_type": "markdown",
      "metadata": {
        "id": "PIAJhcPcEg99",
        "colab_type": "text"
      },
      "source": [
        "##1. Numpy array Initialization"
      ]
    },
    {
      "cell_type": "code",
      "metadata": {
        "id": "cCt1_PbhEUGX",
        "colab_type": "code",
        "outputId": "a586f936-0909-4492-adc3-7c63773ea515",
        "colab": {
          "base_uri": "https://localhost:8080/",
          "height": 521
        }
      },
      "source": [
        "import numpy as np\n",
        "np.random.seed(5)\n",
        "\n",
        "#randint first argument produce a random number within 10\n",
        "x1 = np.random.randint(10, size=5)\n",
        "x2 = np.random.randint(10, size=(5, 5))\n",
        "x3 = np.random.randint(10, size=(5, 5, 5))\n",
        "print(x3)"
      ],
      "execution_count": 0,
      "outputs": [
        {
          "output_type": "stream",
          "text": [
            "[[[4 4 9 3 2]\n",
            "  [4 6 9 3 3]\n",
            "  [2 1 5 7 4]\n",
            "  [3 1 7 3 1]\n",
            "  [9 5 7 0 9]]\n",
            "\n",
            " [[6 0 5 2 8]\n",
            "  [6 8 0 5 2]\n",
            "  [0 7 7 6 0]\n",
            "  [0 8 5 5 9]\n",
            "  [6 4 5 2 8]]\n",
            "\n",
            " [[8 1 6 3 4]\n",
            "  [1 8 0 2 2]\n",
            "  [4 1 6 3 4]\n",
            "  [3 1 4 2 3]\n",
            "  [4 9 4 0 6]]\n",
            "\n",
            " [[6 9 2 9 3]\n",
            "  [0 8 8 9 7]\n",
            "  [4 8 6 8 0]\n",
            "  [5 3 4 0 2]\n",
            "  [2 1 1 7 1]]\n",
            "\n",
            " [[7 2 6 3 6]\n",
            "  [8 0 9 1 9]\n",
            "  [0 8 7 7 9]\n",
            "  [4 1 4 2 1]\n",
            "  [7 5 4 2 2]]]\n"
          ],
          "name": "stdout"
        }
      ]
    },
    {
      "cell_type": "markdown",
      "metadata": {
        "id": "_Zun_ViAEpUg",
        "colab_type": "text"
      },
      "source": [
        "##2. Numpy Attributes"
      ]
    },
    {
      "cell_type": "code",
      "metadata": {
        "id": "S20YMNXmExOz",
        "colab_type": "code",
        "outputId": "574e943f-4750-487e-ae0e-8b2d7dbb1299",
        "colab": {
          "base_uri": "https://localhost:8080/",
          "height": 69
        }
      },
      "source": [
        "print(\"x3 ndim: \", x3.ndim)\n",
        "print(\"x3 shape:\", x3.shape)\n",
        "print(\"x3 size: \", x3.size)"
      ],
      "execution_count": 0,
      "outputs": [
        {
          "output_type": "stream",
          "text": [
            "x3 ndim:  3\n",
            "x3 shape: (5, 5, 5)\n",
            "x3 size:  125\n"
          ],
          "name": "stdout"
        }
      ]
    },
    {
      "cell_type": "markdown",
      "metadata": {
        "id": "o2hSYETDHHrK",
        "colab_type": "text"
      },
      "source": [
        "##3. Indexing Numpy Arrays"
      ]
    },
    {
      "cell_type": "code",
      "metadata": {
        "id": "kMAEe7EYH3x1",
        "colab_type": "code",
        "outputId": "e5679570-cc1b-4651-a9e1-239608b928db",
        "colab": {
          "base_uri": "https://localhost:8080/",
          "height": 34
        }
      },
      "source": [
        "print(x3[4,4,4]) #last element in the corner"
      ],
      "execution_count": 0,
      "outputs": [
        {
          "output_type": "stream",
          "text": [
            "2\n"
          ],
          "name": "stdout"
        }
      ]
    },
    {
      "cell_type": "markdown",
      "metadata": {
        "id": "rjL2DBLZIG8o",
        "colab_type": "text"
      },
      "source": [
        "##4. Slicing two rows and three columns"
      ]
    },
    {
      "cell_type": "code",
      "metadata": {
        "id": "dI1lzE4tIecW",
        "colab_type": "code",
        "outputId": "2938676b-de43-47a9-ca69-67bde62fc598",
        "colab": {
          "base_uri": "https://localhost:8080/",
          "height": 52
        }
      },
      "source": [
        "print(x2[:2, :3])"
      ],
      "execution_count": 0,
      "outputs": [
        {
          "output_type": "stream",
          "text": [
            "[[8 4 7]\n",
            " [7 1 5]]\n"
          ],
          "name": "stdout"
        }
      ]
    },
    {
      "cell_type": "markdown",
      "metadata": {
        "id": "pP8OIWmaInF8",
        "colab_type": "text"
      },
      "source": [
        "##5. Broadcasting"
      ]
    },
    {
      "cell_type": "code",
      "metadata": {
        "id": "eBaqK221I2Zz",
        "colab_type": "code",
        "outputId": "02ce0ca5-07e9-47d0-aa34-f192d63fa166",
        "colab": {
          "base_uri": "https://localhost:8080/",
          "height": 34
        }
      },
      "source": [
        "a = np.array([0, 1, 2])\n",
        "b = np.array([5, 5, 5])\n",
        "print(a + b)"
      ],
      "execution_count": 0,
      "outputs": [
        {
          "output_type": "stream",
          "text": [
            "[5 6 7]\n"
          ],
          "name": "stdout"
        }
      ]
    }
  ]
}
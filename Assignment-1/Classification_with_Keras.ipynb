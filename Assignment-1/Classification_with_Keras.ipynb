{
  "nbformat": 4,
  "nbformat_minor": 0,
  "metadata": {
    "colab": {
      "name": "Classification_with_Keras.ipynb",
      "provenance": [],
      "authorship_tag": "ABX9TyPhyZfqgFmqQdjBTPT7Fc/M",
      "include_colab_link": true
    },
    "kernelspec": {
      "name": "python3",
      "display_name": "Python 3"
    }
  },
  "cells": [
    {
      "cell_type": "markdown",
      "metadata": {
        "id": "view-in-github",
        "colab_type": "text"
      },
      "source": [
        "<a href=\"https://colab.research.google.com/github/Vigneshthanga/258-Deep-Learning/blob/master/Assignment-1/Classification_with_Keras.ipynb\" target=\"_parent\"><img src=\"https://colab.research.google.com/assets/colab-badge.svg\" alt=\"Open In Colab\"/></a>"
      ]
    },
    {
      "cell_type": "markdown",
      "metadata": {
        "id": "bY8uS2rSPF2L",
        "colab_type": "text"
      },
      "source": [
        "# MNIST Digit Image Classification using Keras Library of Tensorflow 2.0"
      ]
    },
    {
      "cell_type": "markdown",
      "metadata": {
        "id": "LtEhkPqjO7ho",
        "colab_type": "text"
      },
      "source": [
        "##1. Importing Tensorflow 2.0 for Keras"
      ]
    },
    {
      "cell_type": "code",
      "metadata": {
        "id": "Pychr2YNOmii",
        "colab_type": "code",
        "colab": {
          "base_uri": "https://localhost:8080/",
          "height": 34
        },
        "outputId": "d78147ed-d087-445a-b1fc-05e5dff2adc6"
      },
      "source": [
        "try:\n",
        "  # %tensorflow_version only exists in Colab.\n",
        "  %tensorflow_version 2.x\n",
        "except Exception:\n",
        "  pass"
      ],
      "execution_count": 1,
      "outputs": [
        {
          "output_type": "stream",
          "text": [
            "TensorFlow 2.x selected.\n"
          ],
          "name": "stdout"
        }
      ]
    },
    {
      "cell_type": "code",
      "metadata": {
        "id": "rg4qOAmmOzvb",
        "colab_type": "code",
        "colab": {
          "base_uri": "https://localhost:8080/",
          "height": 34
        },
        "outputId": "51c6f686-4f2d-4586-f0c2-bb8fcae382fa"
      },
      "source": [
        "from __future__ import absolute_import, division, print_function, unicode_literals\n",
        "\n",
        "# TensorFlow and tf.keras\n",
        "import tensorflow as tf\n",
        "from tensorflow import keras\n",
        "\n",
        "# Helper libraries\n",
        "import numpy as np\n",
        "import matplotlib.pyplot as plt\n",
        "\n",
        "print(tf.__version__)"
      ],
      "execution_count": 2,
      "outputs": [
        {
          "output_type": "stream",
          "text": [
            "2.1.0\n"
          ],
          "name": "stdout"
        }
      ]
    },
    {
      "cell_type": "markdown",
      "metadata": {
        "id": "syI23nvpPzX6",
        "colab_type": "text"
      },
      "source": [
        "##2. Importing MNIST digit data from Keras library."
      ]
    },
    {
      "cell_type": "code",
      "metadata": {
        "id": "aOWk8cagP4g5",
        "colab_type": "code",
        "colab": {}
      },
      "source": [
        "mnist = keras.datasets.mnist\n",
        "\n",
        "(train_images, train_labels), (test_images, test_labels) = mnist.load_data()"
      ],
      "execution_count": 0,
      "outputs": []
    },
    {
      "cell_type": "markdown",
      "metadata": {
        "id": "jBNE3JR2Rvck",
        "colab_type": "text"
      },
      "source": [
        "##3. 60,000 Train data of 28x28 grayscale images of the 10 digits Images "
      ]
    },
    {
      "cell_type": "code",
      "metadata": {
        "id": "JdjNQ9xiQEMQ",
        "colab_type": "code",
        "colab": {
          "base_uri": "https://localhost:8080/",
          "height": 34
        },
        "outputId": "a6d780d3-1a7d-4ffc-9625-d5aca2d990e9"
      },
      "source": [
        "train_images.shape"
      ],
      "execution_count": 6,
      "outputs": [
        {
          "output_type": "execute_result",
          "data": {
            "text/plain": [
              "(60000, 28, 28)"
            ]
          },
          "metadata": {
            "tags": []
          },
          "execution_count": 6
        }
      ]
    },
    {
      "cell_type": "markdown",
      "metadata": {
        "id": "B8TNArZ0R5eM",
        "colab_type": "text"
      },
      "source": [
        "##4. 10,000 Test data of digit Images"
      ]
    },
    {
      "cell_type": "code",
      "metadata": {
        "id": "egwpknTKRUOx",
        "colab_type": "code",
        "colab": {
          "base_uri": "https://localhost:8080/",
          "height": 34
        },
        "outputId": "6b5096c4-0bfd-4324-88c3-f6134b521c4f"
      },
      "source": [
        "test_images.shape"
      ],
      "execution_count": 9,
      "outputs": [
        {
          "output_type": "execute_result",
          "data": {
            "text/plain": [
              "(10000, 28, 28)"
            ]
          },
          "metadata": {
            "tags": []
          },
          "execution_count": 9
        }
      ]
    },
    {
      "cell_type": "markdown",
      "metadata": {
        "id": "BCUKB1sdSLJq",
        "colab_type": "text"
      },
      "source": [
        "##5. Visualizing a sample train data and it's label."
      ]
    },
    {
      "cell_type": "code",
      "metadata": {
        "id": "PdAgeLlZRHI7",
        "colab_type": "code",
        "colab": {
          "base_uri": "https://localhost:8080/",
          "height": 282
        },
        "outputId": "1631f880-32bf-464b-b4cc-e94a9144940b"
      },
      "source": [
        "plt.figure()\n",
        "plt.imshow(train_images[11])\n",
        "plt.colorbar()\n",
        "plt.grid(False)\n",
        "plt.show()\n",
        "print(\"The corresponding lable: \"+str(train_labels[11]))"
      ],
      "execution_count": 12,
      "outputs": [
        {
          "output_type": "display_data",
          "data": {
            "image/png": "[encoded data removed]",
            "text/plain": [
              "<Figure size 432x288 with 2 Axes>"
            ]
          },
          "metadata": {
            "tags": []
          }
        },
        {
          "output_type": "stream",
          "text": [
            "The corresponding lable: 5\n"
          ],
          "name": "stdout"
        }
      ]
    },
    {
      "cell_type": "markdown",
      "metadata": {
        "id": "gTqmNU_0Sp6M",
        "colab_type": "text"
      },
      "source": [
        "##6. Scale the pixel values of data from 0 to 1."
      ]
    },
    {
      "cell_type": "code",
      "metadata": {
        "id": "6MZZiRQ2ScDy",
        "colab_type": "code",
        "colab": {}
      },
      "source": [
        "train_images = train_images / 255.0\n",
        "test_images = test_images / 255.0\n",
        "class_names = ['0','1','2','3','4','5','6','7','8','9']"
      ],
      "execution_count": 0,
      "outputs": []
    },
    {
      "cell_type": "code",
      "metadata": {
        "id": "z9IKYuBMTBe0",
        "colab_type": "code",
        "colab": {
          "base_uri": "https://localhost:8080/",
          "height": 589
        },
        "outputId": "1baaf837-502d-41cb-b22d-53a44328b957"
      },
      "source": [
        "plt.figure(figsize=(10,10))\n",
        "for i in range(25):\n",
        "    plt.subplot(5,5,i+1)\n",
        "    plt.xticks([])\n",
        "    plt.yticks([])\n",
        "    plt.grid(False)\n",
        "    plt.imshow(train_images[i], cmap=plt.cm.binary)\n",
        "    plt.xlabel(class_names[train_labels[i]])\n",
        "plt.show()"
      ],
      "execution_count": 20,
      "outputs": [
        {
          "output_type": "display_data",
          "data": {
            "image/png": "[encoded data removed]",
            "text/plain": [
              "<Figure size 720x720 with 25 Axes>"
            ]
          },
          "metadata": {
            "tags": []
          }
        }
      ]
    },
    {
      "cell_type": "markdown",
      "metadata": {
        "id": "QDIYjJK7Vrlb",
        "colab_type": "text"
      },
      "source": [
        "##7. Building the Network with 784 Neuron in Input layer, two 128 Neurons dense layers and then the 10 node output layer each representing the class label."
      ]
    },
    {
      "cell_type": "code",
      "metadata": {
        "id": "hjRUk1dtVJ5f",
        "colab_type": "code",
        "colab": {}
      },
      "source": [
        "model = keras.Sequential([keras.layers.Flatten(input_shape=(28, 28)), keras.layers.Dense(128, activation='relu'),keras.layers.Dense(10)])"
      ],
      "execution_count": 0,
      "outputs": []
    },
    {
      "cell_type": "markdown",
      "metadata": {
        "id": "c_PmZo0lYTqb",
        "colab_type": "text"
      },
      "source": [
        "##8.Compiling with model with parameters like loss function, optimizer and metrics to monitor the training"
      ]
    },
    {
      "cell_type": "code",
      "metadata": {
        "id": "8wudEIKhYa01",
        "colab_type": "code",
        "colab": {}
      },
      "source": [
        "model.compile(optimizer='adam',loss=tf.keras.losses.SparseCategoricalCrossentropy(from_logits=True), metrics=['accuracy'])"
      ],
      "execution_count": 0,
      "outputs": []
    },
    {
      "cell_type": "markdown",
      "metadata": {
        "id": "ECdJUd7obQrC",
        "colab_type": "text"
      },
      "source": [
        "##9. Fit the model with train data. We are using 10 epochs. As we can see in each epoch the accuracy kept increasing."
      ]
    },
    {
      "cell_type": "code",
      "metadata": {
        "id": "MlJTEIvBYiBa",
        "colab_type": "code",
        "colab": {
          "base_uri": "https://localhost:8080/",
          "height": 399
        },
        "outputId": "16cae8b7-fb86-4e4b-c76e-a93cc060e5c3"
      },
      "source": [
        "model.fit(train_images, train_labels, epochs=10)"
      ],
      "execution_count": 27,
      "outputs": [
        {
          "output_type": "stream",
          "text": [
            "Train on 60000 samples\n",
            "Epoch 1/10\n",
            "60000/60000 [==============================] - 5s 77us/sample - loss: 0.2599 - accuracy: 0.9260\n",
            "Epoch 2/10\n",
            "60000/60000 [==============================] - 4s 68us/sample - loss: 0.1161 - accuracy: 0.9648\n",
            "Epoch 3/10\n",
            "60000/60000 [==============================] - 4s 67us/sample - loss: 0.0796 - accuracy: 0.9759\n",
            "Epoch 4/10\n",
            "60000/60000 [==============================] - 4s 67us/sample - loss: 0.0590 - accuracy: 0.9823\n",
            "Epoch 5/10\n",
            "60000/60000 [==============================] - 4s 66us/sample - loss: 0.0461 - accuracy: 0.9855\n",
            "Epoch 6/10\n",
            "60000/60000 [==============================] - 4s 67us/sample - loss: 0.0349 - accuracy: 0.9890\n",
            "Epoch 7/10\n",
            "60000/60000 [==============================] - 4s 66us/sample - loss: 0.0284 - accuracy: 0.9915\n",
            "Epoch 8/10\n",
            "60000/60000 [==============================] - 4s 67us/sample - loss: 0.0228 - accuracy: 0.9929\n",
            "Epoch 9/10\n",
            "60000/60000 [==============================] - 4s 68us/sample - loss: 0.0193 - accuracy: 0.9941\n",
            "Epoch 10/10\n",
            "60000/60000 [==============================] - 4s 67us/sample - loss: 0.0152 - accuracy: 0.9952\n"
          ],
          "name": "stdout"
        },
        {
          "output_type": "execute_result",
          "data": {
            "text/plain": [
              "<tensorflow.python.keras.callbacks.History at 0x7f47ebb9bc50>"
            ]
          },
          "metadata": {
            "tags": []
          },
          "execution_count": 27
        }
      ]
    },
    {
      "cell_type": "markdown",
      "metadata": {
        "id": "r6ylTEJNcIgB",
        "colab_type": "text"
      },
      "source": [
        "##10. Get the probability model from keras. It gives the logits. The softmax layer will convert the logits to probabilities for easy interpretation."
      ]
    },
    {
      "cell_type": "code",
      "metadata": {
        "id": "qLdwTZHHYzBl",
        "colab_type": "code",
        "colab": {}
      },
      "source": [
        "probability_model = tf.keras.Sequential([model, tf.keras.layers.Softmax()])"
      ],
      "execution_count": 0,
      "outputs": []
    },
    {
      "cell_type": "markdown",
      "metadata": {
        "id": "bQgEI2kjcfDI",
        "colab_type": "text"
      },
      "source": [
        "##11. We can get the prediction probability of 11th image in test data. We can clearly see the probability of the number being 6 is 9.9"
      ]
    },
    {
      "cell_type": "code",
      "metadata": {
        "id": "5M75Pzy_ZnVX",
        "colab_type": "code",
        "colab": {
          "base_uri": "https://localhost:8080/",
          "height": 86
        },
        "outputId": "115643cd-73e6-4c48-848d-2e3c5395d3e7"
      },
      "source": [
        "predictions = probability_model.predict(test_images)\n",
        "print(predictions.shape)\n",
        "predictions[11]"
      ],
      "execution_count": 32,
      "outputs": [
        {
          "output_type": "stream",
          "text": [
            "(10000, 10)\n"
          ],
          "name": "stdout"
        },
        {
          "output_type": "execute_result",
          "data": {
            "text/plain": [
              "array([1.8515807e-06, 6.9550411e-14, 2.5821456e-09, 2.9679964e-10,\n",
              "       4.0762869e-09, 3.4066679e-07, 9.9999392e-01, 9.9765940e-10,\n",
              "       3.7778514e-06, 6.0145335e-13], dtype=float32)"
            ]
          },
          "metadata": {
            "tags": []
          },
          "execution_count": 32
        }
      ]
    },
    {
      "cell_type": "markdown",
      "metadata": {
        "id": "vfPvypqydPsd",
        "colab_type": "text"
      },
      "source": [
        "##12. Apply argmax to get the predicted class for that image. "
      ]
    },
    {
      "cell_type": "code",
      "metadata": {
        "id": "ZqxRZi07Z4jX",
        "colab_type": "code",
        "colab": {
          "base_uri": "https://localhost:8080/",
          "height": 34
        },
        "outputId": "01ce9da4-fd61-4248-8dce-945ad0dc72b9"
      },
      "source": [
        "np.argmax(predictions[11])"
      ],
      "execution_count": 34,
      "outputs": [
        {
          "output_type": "execute_result",
          "data": {
            "text/plain": [
              "6"
            ]
          },
          "metadata": {
            "tags": []
          },
          "execution_count": 34
        }
      ]
    },
    {
      "cell_type": "markdown",
      "metadata": {
        "id": "--jZ41Z2dWpX",
        "colab_type": "text"
      },
      "source": [
        "##13. Verify this with test data."
      ]
    },
    {
      "cell_type": "code",
      "metadata": {
        "id": "lFt20pXQZ7B1",
        "colab_type": "code",
        "colab": {
          "base_uri": "https://localhost:8080/",
          "height": 34
        },
        "outputId": "17947e84-1f57-408e-eaba-df107372344a"
      },
      "source": [
        "test_labels[11]"
      ],
      "execution_count": 35,
      "outputs": [
        {
          "output_type": "execute_result",
          "data": {
            "text/plain": [
              "6"
            ]
          },
          "metadata": {
            "tags": []
          },
          "execution_count": 35
        }
      ]
    },
    {
      "cell_type": "markdown",
      "metadata": {
        "id": "WMq7JYWZdbzb",
        "colab_type": "text"
      },
      "source": [
        "##14. Visualizing the probaility with matplotlib library."
      ]
    },
    {
      "cell_type": "code",
      "metadata": {
        "id": "7hpSQGdcaZnr",
        "colab_type": "code",
        "colab": {}
      },
      "source": [
        "def plot_image(i, predictions_array, true_label, img):\n",
        "  predictions_array, true_label, img = predictions_array, true_label[i], img[i]\n",
        "  plt.grid(False)\n",
        "  plt.xticks([])\n",
        "  plt.yticks([])\n",
        "\n",
        "  plt.imshow(img, cmap=plt.cm.binary)\n",
        "\n",
        "  predicted_label = np.argmax(predictions_array)\n",
        "  if predicted_label == true_label:\n",
        "    color = 'blue'\n",
        "  else:\n",
        "    color = 'red'\n",
        "\n",
        "  plt.xlabel(\"{} {:2.0f}% ({})\".format(class_names[predicted_label],\n",
        "                                100*np.max(predictions_array),\n",
        "                                class_names[true_label]),\n",
        "                                color=color)\n",
        "\n",
        "def plot_value_array(i, predictions_array, true_label):\n",
        "  predictions_array, true_label = predictions_array, true_label[i]\n",
        "  plt.grid(False)\n",
        "  plt.xticks(range(10))\n",
        "  plt.yticks([])\n",
        "  thisplot = plt.bar(range(10), predictions_array, color=\"#777777\")\n",
        "  plt.ylim([0, 1])\n",
        "  predicted_label = np.argmax(predictions_array)\n",
        "\n",
        "  thisplot[predicted_label].set_color('red')\n",
        "  thisplot[true_label].set_color('blue')"
      ],
      "execution_count": 0,
      "outputs": []
    },
    {
      "cell_type": "code",
      "metadata": {
        "id": "1LFUicCpadk0",
        "colab_type": "code",
        "colab": {
          "base_uri": "https://localhost:8080/",
          "height": 211
        },
        "outputId": "ea05eaf0-91b6-47ef-9da2-7cc80ef829c4"
      },
      "source": [
        "i = 11\n",
        "plt.figure(figsize=(6,3))\n",
        "plt.subplot(1,2,1)\n",
        "plot_image(i, predictions[i], test_labels, test_images)\n",
        "plt.subplot(1,2,2)\n",
        "plot_value_array(i, predictions[i],  test_labels)\n",
        "plt.show()"
      ],
      "execution_count": 38,
      "outputs": [
        {
          "output_type": "display_data",
          "data": {
            "image/png": "[encoded data removed]",
            "text/plain": [
              "<Figure size 432x216 with 2 Axes>"
            ]
          },
          "metadata": {
            "tags": []
          }
        }
      ]
    }
  ]
}
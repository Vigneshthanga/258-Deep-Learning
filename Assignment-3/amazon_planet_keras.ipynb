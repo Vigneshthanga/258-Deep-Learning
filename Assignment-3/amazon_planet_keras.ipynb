{
  "nbformat": 4,
  "nbformat_minor": 0,
  "metadata": {
    "colab": {
      "name": "amazon-planet-keras.ipynb",
      "provenance": [],
      "collapsed_sections": [],
      "machine_shape": "hm",
      "authorship_tag": "ABX9TyNr7d6OcjSHUWKweqK34ENy",
      "include_colab_link": true
    },
    "kernelspec": {
      "name": "python3",
      "display_name": "Python 3"
    },
    "accelerator": "GPU"
  },
  "cells": [
    {
      "cell_type": "markdown",
      "metadata": {
        "id": "view-in-github",
        "colab_type": "text"
      },
      "source": [
        "<a href=\"https://colab.research.google.com/github/Vigneshthanga/258-Deep-Learning/blob/master/Assignment-3/amazon_planet_keras.ipynb\" target=\"_parent\"><img src=\"https://colab.research.google.com/assets/colab-badge.svg\" alt=\"Open In Colab\"/></a>"
      ]
    },
    {
      "cell_type": "markdown",
      "metadata": {
        "id": "sxtyHM9qryM9",
        "colab_type": "text"
      },
      "source": [
        "## Code for Downloading Amazon dataset from Kaggle"
      ]
    },
    {
      "cell_type": "code",
      "metadata": {
        "id": "G3SCgO_bVdSS",
        "colab_type": "code",
        "colab": {}
      },
      "source": [
        "#kaggle datasets download -d nikitarom/planets-dataset\n",
        "#unzip planets-dataset.zip"
      ],
      "execution_count": 0,
      "outputs": []
    },
    {
      "cell_type": "code",
      "metadata": {
        "id": "vXC3iZFyWKJ0",
        "colab_type": "code",
        "colab": {}
      },
      "source": [
        "#ls /content/gdrive/My\\ Drive/258-DeepLearning/Data"
      ],
      "execution_count": 0,
      "outputs": []
    },
    {
      "cell_type": "markdown",
      "metadata": {
        "id": "Lvj6ASa_sUG2",
        "colab_type": "text"
      },
      "source": [
        "##Mounting google drive"
      ]
    },
    {
      "cell_type": "code",
      "metadata": {
        "id": "qKp3DLRKWD-s",
        "colab_type": "code",
        "outputId": "d98d63a3-8fb0-48f3-8da5-59a40e89155c",
        "colab": {
          "base_uri": "https://localhost:8080/",
          "height": 34
        }
      },
      "source": [
        "from google.colab import drive\n",
        "drive.mount('/content/gdrive')"
      ],
      "execution_count": 0,
      "outputs": [
        {
          "output_type": "stream",
          "text": [
            "Drive already mounted at /content/gdrive; to attempt to forcibly remount, call drive.mount(\"/content/gdrive\", force_remount=True).\n"
          ],
          "name": "stdout"
        }
      ]
    },
    {
      "cell_type": "code",
      "metadata": {
        "id": "RCUV0CzjXNHQ",
        "colab_type": "code",
        "colab": {}
      },
      "source": [
        "#ls /content/gdrive/My\\ Drive/258-DeepLearning/Data/planet/planet/train-jpg"
      ],
      "execution_count": 0,
      "outputs": []
    },
    {
      "cell_type": "code",
      "metadata": {
        "id": "EjMxw57A82uH",
        "colab_type": "code",
        "colab": {}
      },
      "source": [
        "#ls '/content/gdrive/My Drive/258-DeepLearning/Data/planet/planet/train-jpg'"
      ],
      "execution_count": 0,
      "outputs": []
    },
    {
      "cell_type": "markdown",
      "metadata": {
        "id": "roM6T7-0sZH_",
        "colab_type": "text"
      },
      "source": [
        "## Root directory for data access"
      ]
    },
    {
      "cell_type": "code",
      "metadata": {
        "id": "MbTYYxU2YA5l",
        "colab_type": "code",
        "colab": {}
      },
      "source": [
        "datapath = '/content/gdrive/My Drive/258-DeepLearning/Data/planet/planet/'"
      ],
      "execution_count": 0,
      "outputs": []
    },
    {
      "cell_type": "code",
      "metadata": {
        "id": "JirvR10IodHN",
        "colab_type": "code",
        "outputId": "33ddaf54-b372-4ff0-9dca-a6247bf23201",
        "colab": {
          "base_uri": "https://localhost:8080/",
          "height": 34
        }
      },
      "source": [
        "%tensorflow_version 2.x\n",
        "import tensorflow as tf\n",
        "print(tf.__version__)\n",
        "from matplotlib import pyplot as plt"
      ],
      "execution_count": 0,
      "outputs": [
        {
          "output_type": "stream",
          "text": [
            "2.2.0-rc4\n"
          ],
          "name": "stdout"
        }
      ]
    },
    {
      "cell_type": "markdown",
      "metadata": {
        "id": "jxHy-Fl0snNz",
        "colab_type": "text"
      },
      "source": [
        "## Appending the .jpg extension to all the rows of 'image_name' column"
      ]
    },
    {
      "cell_type": "code",
      "metadata": {
        "id": "PR6k85cW-8aT",
        "colab_type": "code",
        "colab": {}
      },
      "source": [
        "def append_ext(fn):\n",
        "    return fn+\".jpg\""
      ],
      "execution_count": 0,
      "outputs": []
    },
    {
      "cell_type": "markdown",
      "metadata": {
        "id": "Rxp0vTB4tk5b",
        "colab_type": "text"
      },
      "source": [
        "## Loading the train csv into dataframe"
      ]
    },
    {
      "cell_type": "code",
      "metadata": {
        "id": "ala60VStl0yY",
        "colab_type": "code",
        "colab": {}
      },
      "source": [
        "from tensorflow.keras.preprocessing.image import ImageDataGenerator\n",
        "import pandas as pd\n",
        "train_df = pd.read_csv(datapath+'train_classes.csv',dtype=str)\n",
        "train_df[\"image_name\"]=train_df[\"image_name\"].apply(append_ext)"
      ],
      "execution_count": 0,
      "outputs": []
    },
    {
      "cell_type": "code",
      "metadata": {
        "id": "BM3hCU9unz1T",
        "colab_type": "code",
        "outputId": "387d8e1b-c279-40ae-c208-e78cefa1a043",
        "colab": {
          "base_uri": "https://localhost:8080/",
          "height": 175
        }
      },
      "source": [
        "train_df.head(4)"
      ],
      "execution_count": 0,
      "outputs": [
        {
          "output_type": "execute_result",
          "data": {
            "text/html": [
              "<div>\n",
              "<style scoped>\n",
              "    .dataframe tbody tr th:only-of-type {\n",
              "        vertical-align: middle;\n",
              "    }\n",
              "\n",
              "    .dataframe tbody tr th {\n",
              "        vertical-align: top;\n",
              "    }\n",
              "\n",
              "    .dataframe thead th {\n",
              "        text-align: right;\n",
              "    }\n",
              "</style>\n",
              "<table border=\"1\" class=\"dataframe\">\n",
              "  <thead>\n",
              "    <tr style=\"text-align: right;\">\n",
              "      <th></th>\n",
              "      <th>image_name</th>\n",
              "      <th>tags</th>\n",
              "    </tr>\n",
              "  </thead>\n",
              "  <tbody>\n",
              "    <tr>\n",
              "      <th>0</th>\n",
              "      <td>train_0.jpg</td>\n",
              "      <td>haze primary</td>\n",
              "    </tr>\n",
              "    <tr>\n",
              "      <th>1</th>\n",
              "      <td>train_1.jpg</td>\n",
              "      <td>agriculture clear primary water</td>\n",
              "    </tr>\n",
              "    <tr>\n",
              "      <th>2</th>\n",
              "      <td>train_2.jpg</td>\n",
              "      <td>clear primary</td>\n",
              "    </tr>\n",
              "    <tr>\n",
              "      <th>3</th>\n",
              "      <td>train_3.jpg</td>\n",
              "      <td>clear primary</td>\n",
              "    </tr>\n",
              "  </tbody>\n",
              "</table>\n",
              "</div>"
            ],
            "text/plain": [
              "    image_name                             tags\n",
              "0  train_0.jpg                     haze primary\n",
              "1  train_1.jpg  agriculture clear primary water\n",
              "2  train_2.jpg                    clear primary\n",
              "3  train_3.jpg                    clear primary"
            ]
          },
          "metadata": {
            "tags": []
          },
          "execution_count": 10
        }
      ]
    },
    {
      "cell_type": "code",
      "metadata": {
        "id": "c92fR0p3rQmS",
        "colab_type": "code",
        "outputId": "ff1badc0-5dda-4d72-bc82-013890140fd0",
        "colab": {
          "base_uri": "https://localhost:8080/",
          "height": 69
        }
      },
      "source": [
        "train_df.dtypes"
      ],
      "execution_count": 0,
      "outputs": [
        {
          "output_type": "execute_result",
          "data": {
            "text/plain": [
              "image_name    object\n",
              "tags          object\n",
              "dtype: object"
            ]
          },
          "metadata": {
            "tags": []
          },
          "execution_count": 11
        }
      ]
    },
    {
      "cell_type": "markdown",
      "metadata": {
        "id": "VyNc8y5oyw2s",
        "colab_type": "text"
      },
      "source": [
        "## Getting object of ImageDataGenerator from Keras. Train split 80% and Validation split - 20%"
      ]
    },
    {
      "cell_type": "code",
      "metadata": {
        "id": "NWXiY87lo9fq",
        "colab_type": "code",
        "colab": {}
      },
      "source": [
        "datagen = ImageDataGenerator(shear_range=0.2, vertical_flip=True, zoom_range=1.05, fill_mode=\"wrap\", rescale=1./255.,validation_split=0.2)"
      ],
      "execution_count": 0,
      "outputs": []
    },
    {
      "cell_type": "markdown",
      "metadata": {
        "id": "7WUUf_e1y37D",
        "colab_type": "text"
      },
      "source": [
        "## Using the same object for both train and validation data because, 18000 images are found in train and labels of test data (9000 images) are not available. So, the train data is used for training and validation cycle."
      ]
    },
    {
      "cell_type": "code",
      "metadata": {
        "id": "GEWOnPkomOSK",
        "colab_type": "code",
        "outputId": "a15aa801-fbcd-43b3-98a4-d71181cb6b33",
        "colab": {
          "base_uri": "https://localhost:8080/",
          "height": 34
        }
      },
      "source": [
        "train_generator=datagen.flow_from_dataframe(\n",
        "dataframe=train_df,\n",
        "directory='/content/gdrive/My Drive/258-DeepLearning/Data/planet/planet/train-jpg',\n",
        "x_col=\"image_name\",\n",
        "y_col=\"tags\",\n",
        "subset=\"training\",\n",
        "batch_size=1000,\n",
        "seed=42,\n",
        "shuffle=True,\n",
        "class_mode=\"categorical\",\n",
        "target_size=(32,32))"
      ],
      "execution_count": 0,
      "outputs": [
        {
          "output_type": "stream",
          "text": [
            "Found 32384 validated image filenames belonging to 449 classes.\n"
          ],
          "name": "stdout"
        }
      ]
    },
    {
      "cell_type": "code",
      "metadata": {
        "id": "vdlW5Gor45NF",
        "colab_type": "code",
        "outputId": "011c89f9-67dd-4c55-9e63-a02042edc25c",
        "colab": {
          "base_uri": "https://localhost:8080/",
          "height": 34
        }
      },
      "source": [
        "valid_generator=datagen.flow_from_dataframe(\n",
        "dataframe=train_df,\n",
        "directory='/content/gdrive/My Drive/258-DeepLearning/Data/planet/planet/train-jpg',\n",
        "x_col=\"image_name\",\n",
        "y_col=\"tags\",\n",
        "subset=\"validation\",\n",
        "batch_size=1000,\n",
        "seed=42,\n",
        "shuffle=True,\n",
        "class_mode=\"categorical\",\n",
        "target_size=(32,32))"
      ],
      "execution_count": 0,
      "outputs": [
        {
          "output_type": "stream",
          "text": [
            "Found 8095 validated image filenames belonging to 449 classes.\n"
          ],
          "name": "stdout"
        }
      ]
    },
    {
      "cell_type": "markdown",
      "metadata": {
        "id": "9xH3_L4ozXSA",
        "colab_type": "text"
      },
      "source": [
        "## We can see the description of class ID in this dictionary"
      ]
    },
    {
      "cell_type": "code",
      "metadata": {
        "id": "j6rKMQNYdxxU",
        "colab_type": "code",
        "outputId": "9e23f6a3-a9e7-4ab1-c15b-d84e3331ae55",
        "colab": {
          "base_uri": "https://localhost:8080/",
          "height": 1000
        }
      },
      "source": [
        "train_generator.class_indices"
      ],
      "execution_count": 0,
      "outputs": [
        {
          "output_type": "execute_result",
          "data": {
            "text/plain": [
              "{'agriculture artisinal_mine bare_ground clear primary road': 0,\n",
              " 'agriculture artisinal_mine bare_ground clear primary road water': 1,\n",
              " 'agriculture artisinal_mine clear conventional_mine cultivation habitation primary road water': 2,\n",
              " 'agriculture artisinal_mine clear cultivation habitation primary road water': 3,\n",
              " 'agriculture artisinal_mine clear cultivation habitation primary water': 4,\n",
              " 'agriculture artisinal_mine clear cultivation primary': 5,\n",
              " 'agriculture artisinal_mine clear cultivation primary road water': 6,\n",
              " 'agriculture artisinal_mine clear cultivation primary water': 7,\n",
              " 'agriculture artisinal_mine clear habitation primary road water': 8,\n",
              " 'agriculture artisinal_mine clear habitation road water': 9,\n",
              " 'agriculture artisinal_mine clear primary': 10,\n",
              " 'agriculture artisinal_mine clear primary road': 11,\n",
              " 'agriculture artisinal_mine clear primary road water': 12,\n",
              " 'agriculture artisinal_mine clear primary selective_logging water': 13,\n",
              " 'agriculture artisinal_mine clear primary water': 14,\n",
              " 'agriculture artisinal_mine clear road water': 15,\n",
              " 'agriculture artisinal_mine partly_cloudy primary water': 16,\n",
              " 'agriculture bare_ground blooming cultivation partly_cloudy primary selective_logging': 17,\n",
              " 'agriculture bare_ground clear': 18,\n",
              " 'agriculture bare_ground clear conventional_mine habitation primary road': 19,\n",
              " 'agriculture bare_ground clear conventional_mine habitation primary road water': 20,\n",
              " 'agriculture bare_ground clear conventional_mine habitation road': 21,\n",
              " 'agriculture bare_ground clear cultivation habitation primary': 22,\n",
              " 'agriculture bare_ground clear cultivation habitation primary road': 23,\n",
              " 'agriculture bare_ground clear cultivation habitation primary road selective_logging': 24,\n",
              " 'agriculture bare_ground clear cultivation habitation primary road water': 25,\n",
              " 'agriculture bare_ground clear cultivation habitation primary water': 26,\n",
              " 'agriculture bare_ground clear cultivation primary': 27,\n",
              " 'agriculture bare_ground clear cultivation primary road': 28,\n",
              " 'agriculture bare_ground clear cultivation primary road water': 29,\n",
              " 'agriculture bare_ground clear cultivation primary selective_logging water': 30,\n",
              " 'agriculture bare_ground clear cultivation primary slash_burn': 31,\n",
              " 'agriculture bare_ground clear cultivation primary water': 32,\n",
              " 'agriculture bare_ground clear cultivation road': 33,\n",
              " 'agriculture bare_ground clear habitation': 34,\n",
              " 'agriculture bare_ground clear habitation primary': 35,\n",
              " 'agriculture bare_ground clear habitation primary road': 36,\n",
              " 'agriculture bare_ground clear habitation primary road slash_burn': 37,\n",
              " 'agriculture bare_ground clear habitation primary road water': 38,\n",
              " 'agriculture bare_ground clear habitation primary water': 39,\n",
              " 'agriculture bare_ground clear habitation road': 40,\n",
              " 'agriculture bare_ground clear primary': 41,\n",
              " 'agriculture bare_ground clear primary road': 42,\n",
              " 'agriculture bare_ground clear primary road water': 43,\n",
              " 'agriculture bare_ground clear primary water': 44,\n",
              " 'agriculture bare_ground clear road': 45,\n",
              " 'agriculture bare_ground clear water': 46,\n",
              " 'agriculture bare_ground cultivation haze primary water': 47,\n",
              " 'agriculture bare_ground habitation haze primary road': 48,\n",
              " 'agriculture bare_ground habitation partly_cloudy primary': 49,\n",
              " 'agriculture bare_ground habitation partly_cloudy primary road': 50,\n",
              " 'agriculture bare_ground haze': 51,\n",
              " 'agriculture bare_ground haze primary': 52,\n",
              " 'agriculture bare_ground haze primary road': 53,\n",
              " 'agriculture bare_ground haze primary water': 54,\n",
              " 'agriculture bare_ground partly_cloudy primary': 55,\n",
              " 'agriculture bare_ground partly_cloudy primary road': 56,\n",
              " 'agriculture bare_ground partly_cloudy primary water': 57,\n",
              " 'agriculture bare_ground partly_cloudy road': 58,\n",
              " 'agriculture blooming blow_down clear cultivation primary': 59,\n",
              " 'agriculture blooming clear cultivation habitation primary': 60,\n",
              " 'agriculture blooming clear cultivation primary': 61,\n",
              " 'agriculture blooming clear cultivation primary road': 62,\n",
              " 'agriculture blooming clear cultivation primary selective_logging': 63,\n",
              " 'agriculture blooming clear cultivation primary slash_burn': 64,\n",
              " 'agriculture blooming clear cultivation primary water': 65,\n",
              " 'agriculture blooming clear habitation primary road': 66,\n",
              " 'agriculture blooming clear primary': 67,\n",
              " 'agriculture blooming clear primary road': 68,\n",
              " 'agriculture blooming clear primary road water': 69,\n",
              " 'agriculture blooming cultivation haze primary': 70,\n",
              " 'agriculture blooming cultivation partly_cloudy primary selective_logging': 71,\n",
              " 'agriculture blow_down clear cultivation primary': 72,\n",
              " 'agriculture blow_down clear habitation primary': 73,\n",
              " 'agriculture blow_down clear primary': 74,\n",
              " 'agriculture blow_down partly_cloudy primary': 75,\n",
              " 'agriculture blow_down partly_cloudy primary blow_down': 76,\n",
              " 'agriculture clear': 77,\n",
              " 'agriculture clear conventional_mine cultivation habitation primary': 78,\n",
              " 'agriculture clear conventional_mine cultivation habitation primary road': 79,\n",
              " 'agriculture clear conventional_mine habitation primary road': 80,\n",
              " 'agriculture clear conventional_mine habitation road': 81,\n",
              " 'agriculture clear conventional_mine primary road': 82,\n",
              " 'agriculture clear conventional_mine primary road water': 83,\n",
              " 'agriculture clear conventional_mine primary water': 84,\n",
              " 'agriculture clear cultivation': 85,\n",
              " 'agriculture clear cultivation cultivation habitation primary': 86,\n",
              " 'agriculture clear cultivation cultivation habitation primary road': 87,\n",
              " 'agriculture clear cultivation cultivation habitation primary road slash_burn': 88,\n",
              " 'agriculture clear cultivation cultivation habitation primary road slash_burn water': 89,\n",
              " 'agriculture clear cultivation cultivation habitation primary road water': 90,\n",
              " 'agriculture clear cultivation cultivation habitation primary water': 91,\n",
              " 'agriculture clear cultivation cultivation habitation road water': 92,\n",
              " 'agriculture clear cultivation cultivation primary': 93,\n",
              " 'agriculture clear cultivation cultivation primary road': 94,\n",
              " 'agriculture clear cultivation cultivation primary road water': 95,\n",
              " 'agriculture clear cultivation cultivation primary slash_burn': 96,\n",
              " 'agriculture clear cultivation cultivation primary water': 97,\n",
              " 'agriculture clear cultivation cultivation road': 98,\n",
              " 'agriculture clear cultivation habitation primary': 99,\n",
              " 'agriculture clear cultivation habitation primary conventional_mine': 100,\n",
              " 'agriculture clear cultivation habitation primary road': 101,\n",
              " 'agriculture clear cultivation habitation primary road selective_logging': 102,\n",
              " 'agriculture clear cultivation habitation primary road slash_burn': 103,\n",
              " 'agriculture clear cultivation habitation primary road slash_burn water': 104,\n",
              " 'agriculture clear cultivation habitation primary road water': 105,\n",
              " 'agriculture clear cultivation habitation primary selective_logging': 106,\n",
              " 'agriculture clear cultivation habitation primary slash_burn': 107,\n",
              " 'agriculture clear cultivation habitation primary water': 108,\n",
              " 'agriculture clear cultivation habitation road': 109,\n",
              " 'agriculture clear cultivation primary': 110,\n",
              " 'agriculture clear cultivation primary blooming': 111,\n",
              " 'agriculture clear cultivation primary blow_down': 112,\n",
              " 'agriculture clear cultivation primary road': 113,\n",
              " 'agriculture clear cultivation primary road selective_logging': 114,\n",
              " 'agriculture clear cultivation primary road selective_logging slash_burn water': 115,\n",
              " 'agriculture clear cultivation primary road slash_burn': 116,\n",
              " 'agriculture clear cultivation primary road water': 117,\n",
              " 'agriculture clear cultivation primary selective_logging': 118,\n",
              " 'agriculture clear cultivation primary selective_logging water': 119,\n",
              " 'agriculture clear cultivation primary slash_burn': 120,\n",
              " 'agriculture clear cultivation primary slash_burn water': 121,\n",
              " 'agriculture clear cultivation primary water': 122,\n",
              " 'agriculture clear cultivation road': 123,\n",
              " 'agriculture clear cultivation road water': 124,\n",
              " 'agriculture clear cultivation water': 125,\n",
              " 'agriculture clear habitation': 126,\n",
              " 'agriculture clear habitation primary': 127,\n",
              " 'agriculture clear habitation primary road': 128,\n",
              " 'agriculture clear habitation primary road blow_down': 129,\n",
              " 'agriculture clear habitation primary road selective_logging': 130,\n",
              " 'agriculture clear habitation primary road selective_logging water': 131,\n",
              " 'agriculture clear habitation primary road slash_burn': 132,\n",
              " 'agriculture clear habitation primary road water': 133,\n",
              " 'agriculture clear habitation primary road water conventional_mine': 134,\n",
              " 'agriculture clear habitation primary slash_burn': 135,\n",
              " 'agriculture clear habitation primary slash_burn water': 136,\n",
              " 'agriculture clear habitation primary water': 137,\n",
              " 'agriculture clear habitation road': 138,\n",
              " 'agriculture clear habitation road water': 139,\n",
              " 'agriculture clear primary': 140,\n",
              " 'agriculture clear primary blow_down': 141,\n",
              " 'agriculture clear primary conventional_mine': 142,\n",
              " 'agriculture clear primary road': 143,\n",
              " 'agriculture clear primary road conventional_mine': 144,\n",
              " 'agriculture clear primary road selective_logging': 145,\n",
              " 'agriculture clear primary road slash_burn': 146,\n",
              " 'agriculture clear primary road slash_burn water': 147,\n",
              " 'agriculture clear primary road water': 148,\n",
              " 'agriculture clear primary road water conventional_mine': 149,\n",
              " 'agriculture clear primary selective_logging': 150,\n",
              " 'agriculture clear primary slash_burn': 151,\n",
              " 'agriculture clear primary slash_burn water': 152,\n",
              " 'agriculture clear primary water': 153,\n",
              " 'agriculture clear primary water conventional_mine': 154,\n",
              " 'agriculture clear road': 155,\n",
              " 'agriculture clear road water': 156,\n",
              " 'agriculture clear water': 157,\n",
              " 'agriculture conventional_mine habitation partly_cloudy primary road': 158,\n",
              " 'agriculture conventional_mine partly_cloudy primary': 159,\n",
              " 'agriculture cultivation cultivation habitation partly_cloudy primary road': 160,\n",
              " 'agriculture cultivation cultivation habitation partly_cloudy primary road water': 161,\n",
              " 'agriculture cultivation cultivation haze primary road': 162,\n",
              " 'agriculture cultivation cultivation partly_cloudy primary': 163,\n",
              " 'agriculture cultivation cultivation partly_cloudy primary road': 164,\n",
              " 'agriculture cultivation cultivation partly_cloudy primary water': 165,\n",
              " 'agriculture cultivation habitation haze primary': 166,\n",
              " 'agriculture cultivation habitation haze primary road': 167,\n",
              " 'agriculture cultivation habitation haze primary road water': 168,\n",
              " 'agriculture cultivation habitation haze primary water': 169,\n",
              " 'agriculture cultivation habitation partly_cloudy primary': 170,\n",
              " 'agriculture cultivation habitation partly_cloudy primary road': 171,\n",
              " 'agriculture cultivation habitation partly_cloudy primary road water': 172,\n",
              " 'agriculture cultivation habitation partly_cloudy primary slash_burn': 173,\n",
              " 'agriculture cultivation habitation partly_cloudy primary water': 174,\n",
              " 'agriculture cultivation haze primary': 175,\n",
              " 'agriculture cultivation haze primary road': 176,\n",
              " 'agriculture cultivation haze primary road water': 177,\n",
              " 'agriculture cultivation haze primary water': 178,\n",
              " 'agriculture cultivation partly_cloudy': 179,\n",
              " 'agriculture cultivation partly_cloudy primary': 180,\n",
              " 'agriculture cultivation partly_cloudy primary road': 181,\n",
              " 'agriculture cultivation partly_cloudy primary road selective_logging': 182,\n",
              " 'agriculture cultivation partly_cloudy primary road water': 183,\n",
              " 'agriculture cultivation partly_cloudy primary selective_logging': 184,\n",
              " 'agriculture cultivation partly_cloudy primary slash_burn': 185,\n",
              " 'agriculture cultivation partly_cloudy primary water': 186,\n",
              " 'agriculture habitation haze primary': 187,\n",
              " 'agriculture habitation haze primary road': 188,\n",
              " 'agriculture habitation haze primary road water': 189,\n",
              " 'agriculture habitation haze primary water': 190,\n",
              " 'agriculture habitation haze road': 191,\n",
              " 'agriculture habitation partly_cloudy primary': 192,\n",
              " 'agriculture habitation partly_cloudy primary road': 193,\n",
              " 'agriculture habitation partly_cloudy primary road water': 194,\n",
              " 'agriculture habitation partly_cloudy primary road water conventional_mine': 195,\n",
              " 'agriculture habitation partly_cloudy primary water': 196,\n",
              " 'agriculture habitation partly_cloudy road': 197,\n",
              " 'agriculture haze': 198,\n",
              " 'agriculture haze primary': 199,\n",
              " 'agriculture haze primary road': 200,\n",
              " 'agriculture haze primary road selective_logging': 201,\n",
              " 'agriculture haze primary road water': 202,\n",
              " 'agriculture haze primary water': 203,\n",
              " 'agriculture haze road': 204,\n",
              " 'agriculture haze water': 205,\n",
              " 'agriculture partly_cloudy': 206,\n",
              " 'agriculture partly_cloudy primary': 207,\n",
              " 'agriculture partly_cloudy primary blow_down': 208,\n",
              " 'agriculture partly_cloudy primary road': 209,\n",
              " 'agriculture partly_cloudy primary road conventional_mine': 210,\n",
              " 'agriculture partly_cloudy primary road selective_logging': 211,\n",
              " 'agriculture partly_cloudy primary road slash_burn': 212,\n",
              " 'agriculture partly_cloudy primary road water': 213,\n",
              " 'agriculture partly_cloudy primary selective_logging': 214,\n",
              " 'agriculture partly_cloudy primary slash_burn': 215,\n",
              " 'agriculture partly_cloudy primary water': 216,\n",
              " 'agriculture partly_cloudy road': 217,\n",
              " 'agriculture partly_cloudy road water': 218,\n",
              " 'agriculture partly_cloudy water': 219,\n",
              " 'artisinal_mine bare_ground clear cultivation primary water': 220,\n",
              " 'artisinal_mine bare_ground clear habitation primary road water': 221,\n",
              " 'artisinal_mine bare_ground clear habitation road': 222,\n",
              " 'artisinal_mine bare_ground clear primary': 223,\n",
              " 'artisinal_mine bare_ground clear primary road': 224,\n",
              " 'artisinal_mine bare_ground clear primary road water': 225,\n",
              " 'artisinal_mine bare_ground clear primary selective_logging water': 226,\n",
              " 'artisinal_mine bare_ground clear primary water': 227,\n",
              " 'artisinal_mine bare_ground clear road water': 228,\n",
              " 'artisinal_mine bare_ground clear water': 229,\n",
              " 'artisinal_mine bare_ground partly_cloudy primary road': 230,\n",
              " 'artisinal_mine bare_ground partly_cloudy primary road water': 231,\n",
              " 'artisinal_mine bare_ground partly_cloudy primary water': 232,\n",
              " 'artisinal_mine clear conventional_mine habitation primary road water': 233,\n",
              " 'artisinal_mine clear conventional_mine primary road water': 234,\n",
              " 'artisinal_mine clear cultivation primary road water': 235,\n",
              " 'artisinal_mine clear cultivation primary water': 236,\n",
              " 'artisinal_mine clear habitation primary road': 237,\n",
              " 'artisinal_mine clear habitation primary road water': 238,\n",
              " 'artisinal_mine clear habitation primary water': 239,\n",
              " 'artisinal_mine clear primary': 240,\n",
              " 'artisinal_mine clear primary road': 241,\n",
              " 'artisinal_mine clear primary road selective_logging water': 242,\n",
              " 'artisinal_mine clear primary road water': 243,\n",
              " 'artisinal_mine clear primary selective_logging': 244,\n",
              " 'artisinal_mine clear primary selective_logging water': 245,\n",
              " 'artisinal_mine clear primary water': 246,\n",
              " 'artisinal_mine clear road water': 247,\n",
              " 'artisinal_mine clear water': 248,\n",
              " 'artisinal_mine habitation partly_cloudy primary road water': 249,\n",
              " 'artisinal_mine haze primary': 250,\n",
              " 'artisinal_mine haze primary water': 251,\n",
              " 'artisinal_mine partly_cloudy primary': 252,\n",
              " 'artisinal_mine partly_cloudy primary road': 253,\n",
              " 'artisinal_mine partly_cloudy primary road water': 254,\n",
              " 'artisinal_mine partly_cloudy primary water': 255,\n",
              " 'artisinal_mine partly_cloudy water': 256,\n",
              " 'bare_ground blooming clear cultivation primary': 257,\n",
              " 'bare_ground blow_down clear primary': 258,\n",
              " 'bare_ground blow_down clear primary slash_burn': 259,\n",
              " 'bare_ground clear': 260,\n",
              " 'bare_ground clear conventional_mine habitation primary road': 261,\n",
              " 'bare_ground clear conventional_mine habitation primary road water': 262,\n",
              " 'bare_ground clear conventional_mine primary road': 263,\n",
              " 'bare_ground clear cultivation habitation primary': 264,\n",
              " 'bare_ground clear cultivation habitation primary road': 265,\n",
              " 'bare_ground clear cultivation habitation primary road water': 266,\n",
              " 'bare_ground clear cultivation habitation primary water': 267,\n",
              " 'bare_ground clear cultivation primary': 268,\n",
              " 'bare_ground clear cultivation primary road': 269,\n",
              " 'bare_ground clear cultivation primary road selective_logging': 270,\n",
              " 'bare_ground clear cultivation primary road water': 271,\n",
              " 'bare_ground clear cultivation primary water': 272,\n",
              " 'bare_ground clear habitation': 273,\n",
              " 'bare_ground clear habitation primary': 274,\n",
              " 'bare_ground clear habitation primary road': 275,\n",
              " 'bare_ground clear habitation primary road water': 276,\n",
              " 'bare_ground clear habitation primary selective_logging': 277,\n",
              " 'bare_ground clear habitation primary water': 278,\n",
              " 'bare_ground clear habitation road': 279,\n",
              " 'bare_ground clear habitation road water': 280,\n",
              " 'bare_ground clear primary': 281,\n",
              " 'bare_ground clear primary road': 282,\n",
              " 'bare_ground clear primary road selective_logging': 283,\n",
              " 'bare_ground clear primary road water': 284,\n",
              " 'bare_ground clear primary selective_logging slash_burn water': 285,\n",
              " 'bare_ground clear primary selective_logging water': 286,\n",
              " 'bare_ground clear primary slash_burn': 287,\n",
              " 'bare_ground clear primary slash_burn water': 288,\n",
              " 'bare_ground clear primary water': 289,\n",
              " 'bare_ground clear road': 290,\n",
              " 'bare_ground clear road water': 291,\n",
              " 'bare_ground clear water': 292,\n",
              " 'bare_ground conventional_mine partly_cloudy primary road': 293,\n",
              " 'bare_ground cultivation habitation partly_cloudy primary': 294,\n",
              " 'bare_ground cultivation haze primary': 295,\n",
              " 'bare_ground cultivation partly_cloudy primary': 296,\n",
              " 'bare_ground cultivation partly_cloudy primary road': 297,\n",
              " 'bare_ground cultivation partly_cloudy primary selective_logging': 298,\n",
              " 'bare_ground habitation haze primary road': 299,\n",
              " 'bare_ground habitation haze primary water': 300,\n",
              " 'bare_ground habitation partly_cloudy primary': 301,\n",
              " 'bare_ground habitation partly_cloudy primary road': 302,\n",
              " 'bare_ground haze': 303,\n",
              " 'bare_ground haze primary': 304,\n",
              " 'bare_ground haze primary water': 305,\n",
              " 'bare_ground partly_cloudy': 306,\n",
              " 'bare_ground partly_cloudy primary': 307,\n",
              " 'bare_ground partly_cloudy primary road': 308,\n",
              " 'bare_ground partly_cloudy primary slash_burn': 309,\n",
              " 'bare_ground partly_cloudy primary water': 310,\n",
              " 'blooming clear cultivation habitation primary slash_burn': 311,\n",
              " 'blooming clear cultivation primary': 312,\n",
              " 'blooming clear primary': 313,\n",
              " 'blooming clear primary road': 314,\n",
              " 'blooming clear primary selective_logging': 315,\n",
              " 'blooming clear primary water': 316,\n",
              " 'blooming cultivation partly_cloudy primary water': 317,\n",
              " 'blooming haze primary': 318,\n",
              " 'blooming partly_cloudy primary': 319,\n",
              " 'blooming partly_cloudy primary selective_logging': 320,\n",
              " 'blow_down clear cultivation habitation primary': 321,\n",
              " 'blow_down clear cultivation primary': 322,\n",
              " 'blow_down clear primary': 323,\n",
              " 'blow_down clear primary blow_down': 324,\n",
              " 'blow_down clear primary road': 325,\n",
              " 'blow_down clear primary selective_logging': 326,\n",
              " 'blow_down clear primary slash_burn': 327,\n",
              " 'blow_down clear primary water': 328,\n",
              " 'blow_down partly_cloudy primary': 329,\n",
              " 'blow_down partly_cloudy primary water': 330,\n",
              " 'clear bare_ground': 331,\n",
              " 'clear conventional_mine habitation primary': 332,\n",
              " 'clear conventional_mine habitation primary road': 333,\n",
              " 'clear conventional_mine habitation primary road water': 334,\n",
              " 'clear conventional_mine habitation road': 335,\n",
              " 'clear conventional_mine primary': 336,\n",
              " 'clear conventional_mine primary road': 337,\n",
              " 'clear conventional_mine primary road water': 338,\n",
              " 'clear conventional_mine primary water': 339,\n",
              " 'clear cultivation habitation primary': 340,\n",
              " 'clear cultivation habitation primary road': 341,\n",
              " 'clear cultivation habitation primary road slash_burn': 342,\n",
              " 'clear cultivation habitation primary road water': 343,\n",
              " 'clear cultivation habitation primary selective_logging': 344,\n",
              " 'clear cultivation habitation primary slash_burn': 345,\n",
              " 'clear cultivation habitation primary slash_burn water': 346,\n",
              " 'clear cultivation habitation primary water': 347,\n",
              " 'clear cultivation primary': 348,\n",
              " 'clear cultivation primary road': 349,\n",
              " 'clear cultivation primary road selective_logging': 350,\n",
              " 'clear cultivation primary road slash_burn': 351,\n",
              " 'clear cultivation primary road water': 352,\n",
              " 'clear cultivation primary selective_logging': 353,\n",
              " 'clear cultivation primary selective_logging water': 354,\n",
              " 'clear cultivation primary slash_burn': 355,\n",
              " 'clear cultivation primary slash_burn water': 356,\n",
              " 'clear cultivation primary water': 357,\n",
              " 'clear habitation primary': 358,\n",
              " 'clear habitation primary blooming': 359,\n",
              " 'clear habitation primary road': 360,\n",
              " 'clear habitation primary road selective_logging': 361,\n",
              " 'clear habitation primary road water': 362,\n",
              " 'clear habitation primary selective_logging': 363,\n",
              " 'clear habitation primary slash_burn': 364,\n",
              " 'clear habitation primary water': 365,\n",
              " 'clear habitation road': 366,\n",
              " 'clear habitation road water': 367,\n",
              " 'clear habitation water': 368,\n",
              " 'clear primary': 369,\n",
              " 'clear primary blooming': 370,\n",
              " 'clear primary blow_down': 371,\n",
              " 'clear primary road': 372,\n",
              " 'clear primary road blooming': 373,\n",
              " 'clear primary road selective_logging': 374,\n",
              " 'clear primary road selective_logging water': 375,\n",
              " 'clear primary road water': 376,\n",
              " 'clear primary road water conventional_mine': 377,\n",
              " 'clear primary selective_logging': 378,\n",
              " 'clear primary selective_logging water': 379,\n",
              " 'clear primary slash_burn': 380,\n",
              " 'clear primary slash_burn water': 381,\n",
              " 'clear primary water': 382,\n",
              " 'clear road': 383,\n",
              " 'clear road water': 384,\n",
              " 'clear water': 385,\n",
              " 'cloudy': 386,\n",
              " 'conventional_mine habitation partly_cloudy primary road': 387,\n",
              " 'conventional_mine habitation partly_cloudy primary road water': 388,\n",
              " 'conventional_mine haze primary': 389,\n",
              " 'conventional_mine haze primary road': 390,\n",
              " 'conventional_mine partly_cloudy': 391,\n",
              " 'conventional_mine partly_cloudy primary': 392,\n",
              " 'conventional_mine partly_cloudy primary road': 393,\n",
              " 'conventional_mine partly_cloudy primary road water': 394,\n",
              " 'cultivation habitation haze primary': 395,\n",
              " 'cultivation habitation haze primary road water': 396,\n",
              " 'cultivation habitation haze primary water': 397,\n",
              " 'cultivation habitation partly_cloudy primary': 398,\n",
              " 'cultivation habitation partly_cloudy primary road': 399,\n",
              " 'cultivation habitation partly_cloudy primary road water': 400,\n",
              " 'cultivation habitation partly_cloudy primary slash_burn': 401,\n",
              " 'cultivation haze primary': 402,\n",
              " 'cultivation haze primary road': 403,\n",
              " 'cultivation haze primary slash_burn': 404,\n",
              " 'cultivation haze primary water': 405,\n",
              " 'cultivation partly_cloudy primary': 406,\n",
              " 'cultivation partly_cloudy primary road': 407,\n",
              " 'cultivation partly_cloudy primary selective_logging': 408,\n",
              " 'cultivation partly_cloudy primary slash_burn': 409,\n",
              " 'cultivation partly_cloudy primary water': 410,\n",
              " 'habitation haze primary': 411,\n",
              " 'habitation haze primary road': 412,\n",
              " 'habitation haze primary road water': 413,\n",
              " 'habitation haze primary slash_burn': 414,\n",
              " 'habitation haze primary water': 415,\n",
              " 'habitation haze water': 416,\n",
              " 'habitation partly_cloudy primary': 417,\n",
              " 'habitation partly_cloudy primary road': 418,\n",
              " 'habitation partly_cloudy primary road water': 419,\n",
              " 'habitation partly_cloudy primary water': 420,\n",
              " 'habitation partly_cloudy road': 421,\n",
              " 'haze primary': 422,\n",
              " 'haze primary blooming': 423,\n",
              " 'haze primary road': 424,\n",
              " 'haze primary road selective_logging': 425,\n",
              " 'haze primary road selective_logging water': 426,\n",
              " 'haze primary road water': 427,\n",
              " 'haze primary selective_logging': 428,\n",
              " 'haze primary water': 429,\n",
              " 'haze road water': 430,\n",
              " 'haze water': 431,\n",
              " 'partly_cloudy': 432,\n",
              " 'partly_cloudy primary': 433,\n",
              " 'partly_cloudy primary agriculture water': 434,\n",
              " 'partly_cloudy primary blooming': 435,\n",
              " 'partly_cloudy primary blow_down': 436,\n",
              " 'partly_cloudy primary road': 437,\n",
              " 'partly_cloudy primary road selective_logging': 438,\n",
              " 'partly_cloudy primary road selective_logging water': 439,\n",
              " 'partly_cloudy primary road water': 440,\n",
              " 'partly_cloudy primary road water conventional_mine': 441,\n",
              " 'partly_cloudy primary selective_logging': 442,\n",
              " 'partly_cloudy primary selective_logging water': 443,\n",
              " 'partly_cloudy primary slash_burn': 444,\n",
              " 'partly_cloudy primary water': 445,\n",
              " 'partly_cloudy road water': 446,\n",
              " 'partly_cloudy water': 447,\n",
              " 'water': 448}"
            ]
          },
          "metadata": {
            "tags": []
          },
          "execution_count": 15
        }
      ]
    },
    {
      "cell_type": "markdown",
      "metadata": {
        "id": "lXiuCWlCzdOU",
        "colab_type": "text"
      },
      "source": [
        "## Visualizing the dataset"
      ]
    },
    {
      "cell_type": "code",
      "metadata": {
        "id": "9VetxhgZ6jZx",
        "colab_type": "code",
        "colab": {}
      },
      "source": [
        "def show_batch(image_batch, label_batch):\n",
        "  plt.figure(figsize=(10,10))\n",
        "  for n in range(25):\n",
        "      ax = plt.subplot(5,5,n+1)\n",
        "      plt.imshow(image_batch[n])\n",
        "      plt.axis('off')"
      ],
      "execution_count": 0,
      "outputs": []
    },
    {
      "cell_type": "code",
      "metadata": {
        "id": "8iS--nl45_gF",
        "colab_type": "code",
        "outputId": "4818319e-a723-4b14-b1ee-9d1bcb62c4f5",
        "colab": {
          "base_uri": "https://localhost:8080/",
          "height": 592
        }
      },
      "source": [
        "image_batch, label_batch = next(train_generator)\n",
        "print(image_batch.shape)\n",
        "show_batch(image_batch, label_batch)"
      ],
      "execution_count": 0,
      "outputs": [
        {
          "output_type": "stream",
          "text": [
            "(1000, 32, 32, 3)\n"
          ],
          "name": "stdout"
        },
        {
          "output_type": "display_data",
          "data": {
            "image/png": "[encoded data removed]",
            "text/plain": [
              "<Figure size 720x720 with 25 Axes>"
            ]
          },
          "metadata": {
            "tags": [],
            "needs_background": "light"
          }
        }
      ]
    },
    {
      "cell_type": "markdown",
      "metadata": {
        "id": "eQeioPZizhz-",
        "colab_type": "text"
      },
      "source": [
        "## A simple CNN model for classifying the given image as either of thos 449 classes"
      ]
    },
    {
      "cell_type": "code",
      "metadata": {
        "id": "H8dMjoCnhYmV",
        "colab_type": "code",
        "colab": {}
      },
      "source": [
        "from tensorflow.keras.layers import * \n",
        "def createModel():\n",
        "  model = tf.keras.Sequential()\n",
        "  model.add(Conv2D(32, (3, 3), padding='same',\n",
        "                 input_shape=(32,32,3)))\n",
        "  model.add(Activation('relu'))\n",
        "  model.add(Conv2D(32, (3, 3)))\n",
        "  model.add(Activation('relu'))\n",
        "  model.add(MaxPooling2D(pool_size=(2, 2)))\n",
        "  model.add(Dropout(0.25))\n",
        "  model.add(Conv2D(64, (3, 3), padding='same'))\n",
        "  model.add(Activation('relu'))\n",
        "  model.add(Conv2D(64, (3, 3)))\n",
        "  model.add(Activation('relu'))\n",
        "  model.add(MaxPooling2D(pool_size=(2, 2)))\n",
        "  model.add(Dropout(0.25))\n",
        "  model.add(Flatten())\n",
        "  model.add(Dense(512))\n",
        "  model.add(Activation('relu'))\n",
        "  model.add(Dense(449, activation='softmax'))\n",
        "  return model\n"
      ],
      "execution_count": 0,
      "outputs": []
    },
    {
      "cell_type": "markdown",
      "metadata": {
        "id": "Kt0GGPsazvYh",
        "colab_type": "text"
      },
      "source": [
        "## Tried Tensor Board for train and validation accuracy visualization. But due to large amount of logs, each epoch take approximately 2 hours to complete. So, this is not used for this task."
      ]
    },
    {
      "cell_type": "code",
      "metadata": {
        "id": "TZGbPmkqS99G",
        "colab_type": "code",
        "colab": {}
      },
      "source": [
        "# Load the TensorBoard notebook extension\n",
        "%load_ext tensorboard"
      ],
      "execution_count": 0,
      "outputs": []
    },
    {
      "cell_type": "code",
      "metadata": {
        "id": "IjyXu-hCTAN9",
        "colab_type": "code",
        "colab": {}
      },
      "source": [
        "import tensorflow as tf\n",
        "import datetime, os"
      ],
      "execution_count": 0,
      "outputs": []
    },
    {
      "cell_type": "markdown",
      "metadata": {
        "id": "mDYw8DpK0AWv",
        "colab_type": "text"
      },
      "source": [
        "## We can visualize the model parameters and it's shape using model.summary()"
      ]
    },
    {
      "cell_type": "code",
      "metadata": {
        "id": "HxWGTD0caShe",
        "colab_type": "code",
        "outputId": "965fe455-bde1-4718-86d1-24efabe78db2",
        "colab": {
          "base_uri": "https://localhost:8080/",
          "height": 712
        }
      },
      "source": [
        "model = createModel()\n",
        "model.summary()"
      ],
      "execution_count": 0,
      "outputs": [
        {
          "output_type": "stream",
          "text": [
            "Model: \"sequential\"\n",
            "_________________________________________________________________\n",
            "Layer (type)                 Output Shape              Param #   \n",
            "=================================================================\n",
            "conv2d (Conv2D)              (None, 32, 32, 32)        896       \n",
            "_________________________________________________________________\n",
            "activation (Activation)      (None, 32, 32, 32)        0         \n",
            "_________________________________________________________________\n",
            "conv2d_1 (Conv2D)            (None, 30, 30, 32)        9248      \n",
            "_________________________________________________________________\n",
            "activation_1 (Activation)    (None, 30, 30, 32)        0         \n",
            "_________________________________________________________________\n",
            "max_pooling2d (MaxPooling2D) (None, 15, 15, 32)        0         \n",
            "_________________________________________________________________\n",
            "dropout (Dropout)            (None, 15, 15, 32)        0         \n",
            "_________________________________________________________________\n",
            "conv2d_2 (Conv2D)            (None, 15, 15, 64)        18496     \n",
            "_________________________________________________________________\n",
            "activation_2 (Activation)    (None, 15, 15, 64)        0         \n",
            "_________________________________________________________________\n",
            "conv2d_3 (Conv2D)            (None, 13, 13, 64)        36928     \n",
            "_________________________________________________________________\n",
            "activation_3 (Activation)    (None, 13, 13, 64)        0         \n",
            "_________________________________________________________________\n",
            "max_pooling2d_1 (MaxPooling2 (None, 6, 6, 64)          0         \n",
            "_________________________________________________________________\n",
            "dropout_1 (Dropout)          (None, 6, 6, 64)          0         \n",
            "_________________________________________________________________\n",
            "flatten (Flatten)            (None, 2304)              0         \n",
            "_________________________________________________________________\n",
            "dense (Dense)                (None, 512)               1180160   \n",
            "_________________________________________________________________\n",
            "activation_4 (Activation)    (None, 512)               0         \n",
            "_________________________________________________________________\n",
            "dense_1 (Dense)              (None, 449)               230337    \n",
            "=================================================================\n",
            "Total params: 1,476,065\n",
            "Trainable params: 1,476,065\n",
            "Non-trainable params: 0\n",
            "_________________________________________________________________\n"
          ],
          "name": "stdout"
        }
      ]
    },
    {
      "cell_type": "markdown",
      "metadata": {
        "id": "MEXoDVN20Ji4",
        "colab_type": "text"
      },
      "source": [
        "## Defined train_model function which accomodate the model.fit() function. Note we can use fit() for generators also as, fit_Generator() will be deprecated in future releases"
      ]
    },
    {
      "cell_type": "code",
      "metadata": {
        "id": "Tr_z0R4SSrtj",
        "colab_type": "code",
        "colab": {}
      },
      "source": [
        "from datetime import datetime\n",
        "def train_model():\n",
        "  model = createModel()\n",
        "  model.compile(tf.keras.optimizers.Adam(lr=0.0001, decay=1e-6),loss=\"categorical_crossentropy\",metrics=[\"accuracy\"])\n",
        "#  logdir = \"/content/gdrive/My Drive/258-DeepLearning/Data/planet/logs/scalars/\" + datetime.now().strftime(\"%Y%m%d-%H%M%S\")  \n",
        "#  tensorboard_callback = tf.keras.callbacks.TensorBoard(logdir, histogram_freq=1)\n",
        "  early_stop = tf.keras.callbacks.EarlyStopping(\n",
        "                monitor='val_loss', min_delta=0, patience=4, verbose=0, mode='auto',\n",
        "                baseline=None, restore_best_weights=False)\n",
        "\n",
        "  STEP_SIZE_TRAIN=train_generator.n//train_generator.batch_size\n",
        "  STEP_SIZE_VALID=valid_generator.n//valid_generator.batch_size\n",
        "  \n",
        "  model.fit(x=train_generator,\n",
        "                      steps_per_epoch=STEP_SIZE_TRAIN,\n",
        "                      validation_data=valid_generator,\n",
        "                      validation_steps=STEP_SIZE_VALID,\n",
        "                      epochs=20, callbacks=[early_stop])\n",
        "  tf.keras.models.save_model(model, '/content/gdrive/My Drive/258-DeepLearning/amazon_model_1', overwrite=True, include_optimizer=True, save_format='tf',\n",
        "                            signatures=None, options=None)"
      ],
      "execution_count": 0,
      "outputs": []
    },
    {
      "cell_type": "markdown",
      "metadata": {
        "id": "rSvYzRZg0YvA",
        "colab_type": "text"
      },
      "source": [
        "## We can un comment this line to retrain the model from the begining. But, since the trained model is saved, we have commented this line."
      ]
    },
    {
      "cell_type": "code",
      "metadata": {
        "id": "y2Fu6aSlQibc",
        "colab_type": "code",
        "outputId": "f98ed90e-f8cb-4d3b-909b-7d393cab3f05",
        "colab": {
          "base_uri": "https://localhost:8080/",
          "height": 801
        }
      },
      "source": [
        "#train_model()"
      ],
      "execution_count": 0,
      "outputs": [
        {
          "output_type": "stream",
          "text": [
            "Epoch 1/20\n",
            "32/32 [==============================] - 9350s 292s/step - loss: 5.1878 - accuracy: 0.3071 - val_loss: 4.2840 - val_accuracy: 0.1521\n",
            "Epoch 2/20\n",
            "32/32 [==============================] - 204s 6s/step - loss: 3.7460 - accuracy: 0.3001 - val_loss: 3.5719 - val_accuracy: 0.3381\n",
            "Epoch 3/20\n",
            "32/32 [==============================] - 204s 6s/step - loss: 3.2521 - accuracy: 0.3461 - val_loss: 3.0598 - val_accuracy: 0.3826\n",
            "Epoch 4/20\n",
            "32/32 [==============================] - 202s 6s/step - loss: 2.9054 - accuracy: 0.3875 - val_loss: 2.9389 - val_accuracy: 0.3906\n",
            "Epoch 5/20\n",
            "32/32 [==============================] - 202s 6s/step - loss: 2.8177 - accuracy: 0.3952 - val_loss: 2.8444 - val_accuracy: 0.4014\n",
            "Epoch 6/20\n",
            "32/32 [==============================] - 201s 6s/step - loss: 2.7935 - accuracy: 0.3930 - val_loss: 2.8242 - val_accuracy: 0.4020\n",
            "Epoch 7/20\n",
            "32/32 [==============================] - 202s 6s/step - loss: 2.7317 - accuracy: 0.4042 - val_loss: 2.7640 - val_accuracy: 0.4103\n",
            "Epoch 8/20\n",
            "32/32 [==============================] - 202s 6s/step - loss: 2.7204 - accuracy: 0.4035 - val_loss: 2.7290 - val_accuracy: 0.4175\n",
            "Epoch 9/20\n",
            "32/32 [==============================] - 201s 6s/step - loss: 2.6541 - accuracy: 0.4253 - val_loss: 2.6959 - val_accuracy: 0.4342\n",
            "Epoch 10/20\n",
            "32/32 [==============================] - 202s 6s/step - loss: 2.6024 - accuracy: 0.4353 - val_loss: 2.6767 - val_accuracy: 0.4326\n",
            "Epoch 11/20\n",
            "32/32 [==============================] - 202s 6s/step - loss: 2.5770 - accuracy: 0.4400 - val_loss: 2.6033 - val_accuracy: 0.4433\n",
            "Epoch 12/20\n",
            "32/32 [==============================] - 203s 6s/step - loss: 2.5694 - accuracy: 0.4396 - val_loss: 2.6148 - val_accuracy: 0.4494\n",
            "Epoch 13/20\n",
            "32/32 [==============================] - 204s 6s/step - loss: 2.5139 - accuracy: 0.4532 - val_loss: 2.5579 - val_accuracy: 0.4544\n",
            "Epoch 14/20\n",
            "32/32 [==============================] - 202s 6s/step - loss: 2.5262 - accuracy: 0.4488 - val_loss: 2.5524 - val_accuracy: 0.4564\n",
            "Epoch 15/20\n",
            "32/32 [==============================] - 204s 6s/step - loss: 2.4889 - accuracy: 0.4553 - val_loss: 2.5683 - val_accuracy: 0.4571\n",
            "Epoch 16/20\n",
            "32/32 [==============================] - 203s 6s/step - loss: 2.4786 - accuracy: 0.4545 - val_loss: 2.5247 - val_accuracy: 0.4600\n",
            "Epoch 17/20\n",
            "32/32 [==============================] - 201s 6s/step - loss: 2.4517 - accuracy: 0.4588 - val_loss: 2.5121 - val_accuracy: 0.4646\n",
            "Epoch 18/20\n",
            "32/32 [==============================] - 202s 6s/step - loss: 2.4688 - accuracy: 0.4580 - val_loss: 2.4915 - val_accuracy: 0.4616\n",
            "Epoch 19/20\n",
            "32/32 [==============================] - 203s 6s/step - loss: 2.4468 - accuracy: 0.4594 - val_loss: 2.5037 - val_accuracy: 0.4631\n",
            "Epoch 20/20\n",
            "32/32 [==============================] - 201s 6s/step - loss: 2.4310 - accuracy: 0.4613 - val_loss: 2.4937 - val_accuracy: 0.4625\n",
            "WARNING:tensorflow:From /usr/local/lib/python3.6/dist-packages/tensorflow/python/ops/resource_variable_ops.py:1817: calling BaseResourceVariable.__init__ (from tensorflow.python.ops.resource_variable_ops) with constraint is deprecated and will be removed in a future version.\n",
            "Instructions for updating:\n",
            "If using Keras pass *_constraint arguments to layers.\n",
            "INFO:tensorflow:Assets written to: /content/gdrive/My Drive/258-DeepLearning/amazon_model_1/assets\n"
          ],
          "name": "stdout"
        }
      ]
    },
    {
      "cell_type": "markdown",
      "metadata": {
        "id": "ognsNC6H0mOT",
        "colab_type": "text"
      },
      "source": [
        "## Loading the saved model using keras.models.load_model() function"
      ]
    },
    {
      "cell_type": "code",
      "metadata": {
        "id": "sPtQuBOgdpXs",
        "colab_type": "code",
        "colab": {}
      },
      "source": [
        "loaded_model = tf.keras.models.load_model('/content/gdrive/My Drive/258-DeepLearning/amazon_model_1')"
      ],
      "execution_count": 0,
      "outputs": []
    },
    {
      "cell_type": "code",
      "metadata": {
        "id": "7i-z8VEjkWhf",
        "colab_type": "code",
        "outputId": "cc051187-f3d0-4a3d-ac40-7554cad05771",
        "colab": {
          "base_uri": "https://localhost:8080/",
          "height": 712
        }
      },
      "source": [
        "loaded_model.summary()"
      ],
      "execution_count": 0,
      "outputs": [
        {
          "output_type": "stream",
          "text": [
            "Model: \"sequential_2\"\n",
            "_________________________________________________________________\n",
            "Layer (type)                 Output Shape              Param #   \n",
            "=================================================================\n",
            "conv2d_8 (Conv2D)            (None, 32, 32, 32)        896       \n",
            "_________________________________________________________________\n",
            "activation_10 (Activation)   (None, 32, 32, 32)        0         \n",
            "_________________________________________________________________\n",
            "conv2d_9 (Conv2D)            (None, 30, 30, 32)        9248      \n",
            "_________________________________________________________________\n",
            "activation_11 (Activation)   (None, 30, 30, 32)        0         \n",
            "_________________________________________________________________\n",
            "max_pooling2d_4 (MaxPooling2 (None, 15, 15, 32)        0         \n",
            "_________________________________________________________________\n",
            "dropout_4 (Dropout)          (None, 15, 15, 32)        0         \n",
            "_________________________________________________________________\n",
            "conv2d_10 (Conv2D)           (None, 15, 15, 64)        18496     \n",
            "_________________________________________________________________\n",
            "activation_12 (Activation)   (None, 15, 15, 64)        0         \n",
            "_________________________________________________________________\n",
            "conv2d_11 (Conv2D)           (None, 13, 13, 64)        36928     \n",
            "_________________________________________________________________\n",
            "activation_13 (Activation)   (None, 13, 13, 64)        0         \n",
            "_________________________________________________________________\n",
            "max_pooling2d_5 (MaxPooling2 (None, 6, 6, 64)          0         \n",
            "_________________________________________________________________\n",
            "dropout_5 (Dropout)          (None, 6, 6, 64)          0         \n",
            "_________________________________________________________________\n",
            "flatten_2 (Flatten)          (None, 2304)              0         \n",
            "_________________________________________________________________\n",
            "dense_4 (Dense)              (None, 512)               1180160   \n",
            "_________________________________________________________________\n",
            "activation_14 (Activation)   (None, 512)               0         \n",
            "_________________________________________________________________\n",
            "dense_5 (Dense)              (None, 449)               230337    \n",
            "=================================================================\n",
            "Total params: 1,476,065\n",
            "Trainable params: 1,476,065\n",
            "Non-trainable params: 0\n",
            "_________________________________________________________________\n"
          ],
          "name": "stdout"
        }
      ]
    },
    {
      "cell_type": "markdown",
      "metadata": {
        "id": "QwoG9FVj0rxy",
        "colab_type": "text"
      },
      "source": [
        "## Loading a test image from test-jpg directory to classify the email to either of those 449 classes"
      ]
    },
    {
      "cell_type": "code",
      "metadata": {
        "id": "eh9mXHMdkdyT",
        "colab_type": "code",
        "colab": {}
      },
      "source": [
        "import cv2\n",
        "import tensorflow as tf\n",
        "import numpy as np\n",
        "\n",
        "def prepare(filepath):\n",
        "  imgsize = 32\n",
        "  img_array = cv2.imread(filepath)\n",
        "  arr = cv2.resize(img_array, (imgsize, imgsize))\n",
        "  return arr.reshape(1, imgsize, imgsize, 3)"
      ],
      "execution_count": 0,
      "outputs": []
    },
    {
      "cell_type": "code",
      "metadata": {
        "id": "1c5blweukzbh",
        "colab_type": "code",
        "colab": {}
      },
      "source": [
        "filepath = '/content/gdrive/My Drive/258-DeepLearning/Data/planet/planet/test-jpg/test_1.jpg'\n",
        "img = prepare(filepath)"
      ],
      "execution_count": 0,
      "outputs": []
    },
    {
      "cell_type": "markdown",
      "metadata": {
        "id": "fdftmBT00-pk",
        "colab_type": "text"
      },
      "source": [
        "## Ensure that the shape of test data is same as that of train data. Else we cannot pass that data to the model."
      ]
    },
    {
      "cell_type": "code",
      "metadata": {
        "id": "viZK8ItklaSx",
        "colab_type": "code",
        "outputId": "82501d9e-7aec-4719-d040-cbfdde074005",
        "colab": {
          "base_uri": "https://localhost:8080/",
          "height": 34
        }
      },
      "source": [
        "img.shape"
      ],
      "execution_count": 0,
      "outputs": [
        {
          "output_type": "execute_result",
          "data": {
            "text/plain": [
              "(1, 32, 32, 3)"
            ]
          },
          "metadata": {
            "tags": []
          },
          "execution_count": 71
        }
      ]
    },
    {
      "cell_type": "markdown",
      "metadata": {
        "id": "S8gEchvO1H7K",
        "colab_type": "text"
      },
      "source": [
        "## Get the y_pred matrix from the model"
      ]
    },
    {
      "cell_type": "code",
      "metadata": {
        "id": "iOF1jaY-oC5S",
        "colab_type": "code",
        "colab": {}
      },
      "source": [
        "y_pred = loaded_model.predict([img])"
      ],
      "execution_count": 0,
      "outputs": []
    },
    {
      "cell_type": "markdown",
      "metadata": {
        "id": "cymjqKb61Mdu",
        "colab_type": "text"
      },
      "source": [
        "## Apply argmax function on it to get the class ID."
      ]
    },
    {
      "cell_type": "code",
      "metadata": {
        "id": "AsBPKVz1onE-",
        "colab_type": "code",
        "outputId": "45282d07-5832-4105-e643-d02f14dba32c",
        "colab": {
          "base_uri": "https://localhost:8080/",
          "height": 34
        }
      },
      "source": [
        "np.argmax(y_pred)"
      ],
      "execution_count": 0,
      "outputs": [
        {
          "output_type": "execute_result",
          "data": {
            "text/plain": [
              "366"
            ]
          },
          "metadata": {
            "tags": []
          },
          "execution_count": 73
        }
      ]
    },
    {
      "cell_type": "markdown",
      "metadata": {
        "id": "CY0JxdD31TcI",
        "colab_type": "text"
      },
      "source": [
        "## Evaluate the loaded_model against the validation set and compare that with the last step in training cycle. The result should be somewhat similar."
      ]
    },
    {
      "cell_type": "code",
      "metadata": {
        "id": "gfAkX1Do40bV",
        "colab_type": "code",
        "outputId": "825a1e0d-8eb5-4f82-c1ac-71522cb1f373",
        "colab": {
          "base_uri": "https://localhost:8080/"
        }
      },
      "source": [
        "score = loaded_model.evaluate_generator(generator=valid_generator,steps=STEP_SIZE_VALID)"
      ],
      "execution_count": 0,
      "outputs": [
        {
          "output_type": "error",
          "ename": "NameError",
          "evalue": "ignored",
          "traceback": [
            "\u001b[0;31m---------------------------------------------------------------------------\u001b[0m",
            "\u001b[0;31mNameError\u001b[0m                                 Traceback (most recent call last)",
            "\u001b[0;32m<ipython-input-74-9df90afeeda9>\u001b[0m in \u001b[0;36m<module>\u001b[0;34m()\u001b[0m\n\u001b[0;32m----> 1\u001b[0;31m \u001b[0mscore\u001b[0m \u001b[0;34m=\u001b[0m \u001b[0mloaded_model\u001b[0m\u001b[0;34m.\u001b[0m\u001b[0mevaluate_generator\u001b[0m\u001b[0;34m(\u001b[0m\u001b[0mgenerator\u001b[0m\u001b[0;34m=\u001b[0m\u001b[0mvalid_generator\u001b[0m\u001b[0;34m,\u001b[0m\u001b[0msteps\u001b[0m\u001b[0;34m=\u001b[0m\u001b[0mSTEP_SIZE_VALID\u001b[0m\u001b[0;34m)\u001b[0m\u001b[0;34m\u001b[0m\u001b[0;34m\u001b[0m\u001b[0m\n\u001b[0m",
            "\u001b[0;31mNameError\u001b[0m: name 'STEP_SIZE_VALID' is not defined"
          ]
        }
      ]
    },
    {
      "cell_type": "code",
      "metadata": {
        "id": "r0DCzb9D436O",
        "colab_type": "code",
        "colab": {}
      },
      "source": [
        "from sklearn.metrics import classification_report, confusion_matrix"
      ],
      "execution_count": 0,
      "outputs": []
    },
    {
      "cell_type": "code",
      "metadata": {
        "id": "nP7nQKuy47pP",
        "colab_type": "code",
        "colab": {}
      },
      "source": [
        "y_pred = model.predict_generator(valid_generator, steps=(valid_generator.n // valid_generator.batch_size)+1)\n",
        "y_pred = np.argmax(y_pred, axis=1)\n",
        "print(y_pred)\n",
        "print('Confusion Matrix')\n",
        "print(confusion_matrix(valid_generator.classes, y_pred))\n",
        "print('Classification Report')\n",
        "print(classification_report(valid_generator.classes, y_pred, target_names=classes))"
      ],
      "execution_count": 0,
      "outputs": []
    }
  ]
}
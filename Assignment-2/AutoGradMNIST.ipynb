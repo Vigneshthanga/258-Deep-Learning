{
  "nbformat": 4,
  "nbformat_minor": 0,
  "metadata": {
    "colab": {
      "name": "AutoGradMNIST.ipynb",
      "provenance": [],
      "collapsed_sections": [],
      "authorship_tag": "ABX9TyORKnRZB9WdGa96KraiRnxj",
      "include_colab_link": true
    },
    "kernelspec": {
      "name": "python3",
      "display_name": "Python 3"
    },
    "accelerator": "TPU"
  },
  "cells": [
    {
      "cell_type": "markdown",
      "metadata": {
        "id": "view-in-github",
        "colab_type": "text"
      },
      "source": [
        "<a href=\"https://colab.research.google.com/github/Vigneshthanga/258-Deep-Learning/blob/master/Assignment-2/AutoGradMNIST.ipynb\" target=\"_parent\"><img src=\"https://colab.research.google.com/assets/colab-badge.svg\" alt=\"Open In Colab\"/></a>"
      ]
    },
    {
      "cell_type": "markdown",
      "metadata": {
        "id": "oMBMKMCAzD_2",
        "colab_type": "text"
      },
      "source": [
        "## Importing for module auto reload"
      ]
    },
    {
      "cell_type": "code",
      "metadata": {
        "id": "c0461H7OH3rV",
        "colab_type": "code",
        "colab": {}
      },
      "source": [
        "%matplotlib inline\n",
        "\n",
        "#To reload all modules before executing a new line\n",
        "%reload_ext autoreload\n",
        "%autoreload 2"
      ],
      "execution_count": 0,
      "outputs": []
    },
    {
      "cell_type": "markdown",
      "metadata": {
        "id": "NGWiOHz8zK1N",
        "colab_type": "text"
      },
      "source": [
        "## Importing libraries"
      ]
    },
    {
      "cell_type": "code",
      "metadata": {
        "id": "VjSfpxOcH9lm",
        "colab_type": "code",
        "outputId": "00a7962a-2955-4243-f98d-5709f87df02c",
        "colab": {
          "base_uri": "https://localhost:8080/",
          "height": 34
        }
      },
      "source": [
        "%tensorflow_version 2.x\n",
        "import tensorflow\n",
        "print(tensorflow.__version__)\n",
        "from keras.datasets import mnist\n",
        "from matplotlib import pyplot as plt\n",
        "import numpy as np"
      ],
      "execution_count": 0,
      "outputs": [
        {
          "output_type": "stream",
          "text": [
            "2.2.0-rc4\n"
          ],
          "name": "stdout"
        }
      ]
    },
    {
      "cell_type": "markdown",
      "metadata": {
        "id": "1hn4XxuozRyS",
        "colab_type": "text"
      },
      "source": [
        "## Loading MNIST data"
      ]
    },
    {
      "cell_type": "code",
      "metadata": {
        "id": "_C5tpZ0kIAzN",
        "colab_type": "code",
        "colab": {}
      },
      "source": [
        "(x_train, y_train), (x_test, y_test) = mnist.load_data()"
      ],
      "execution_count": 0,
      "outputs": []
    },
    {
      "cell_type": "code",
      "metadata": {
        "id": "raxASKckIESY",
        "colab_type": "code",
        "outputId": "3c05ca4c-4542-4c45-f1b5-0e5dc4dfe0dd",
        "colab": {
          "base_uri": "https://localhost:8080/",
          "height": 34
        }
      },
      "source": [
        "x_train.shape"
      ],
      "execution_count": 0,
      "outputs": [
        {
          "output_type": "execute_result",
          "data": {
            "text/plain": [
              "(60000, 28, 28)"
            ]
          },
          "metadata": {
            "tags": []
          },
          "execution_count": 30
        }
      ]
    },
    {
      "cell_type": "markdown",
      "metadata": {
        "id": "WN_ZJu3AzVwp",
        "colab_type": "text"
      },
      "source": [
        "## Creating class CTensor"
      ]
    },
    {
      "cell_type": "code",
      "metadata": {
        "id": "MA5ME21p6mdJ",
        "colab_type": "code",
        "colab": {}
      },
      "source": [
        "class CTensor(object):\n",
        "    def __init__(self,data, autograd=False, creators=None, creation_op=None, id=None): \n",
        "        if not (str(type(data)) != '<class numpy.ndarray>'):\n",
        "            self.data = np.array(data)\n",
        "        else:\n",
        "          self.data = data   \n",
        "        self.autograd = autograd\n",
        "        self.grad = None\n",
        "        if(id is None):\n",
        "            self.id = np.random.randint(0,10000)\n",
        "        else:\n",
        "            self.id = id\n",
        "        \n",
        "        self.creators = creators\n",
        "        self.creation_op = creation_op\n",
        "        self.children = dict()\n",
        "        \n",
        "        if(creators):\n",
        "            for c in creators:\n",
        "                if(self.id not in c.children):\n",
        "                    c.children[self.id] = 1\n",
        "                else:\n",
        "                    c.children[self.id] += 1\n",
        "\n",
        "    ## This function takes care of accounting all the children nodes before propagating to the next\n",
        "    def all_children_accounted_for(self):\n",
        "        for id,cnt in self.children.items():\n",
        "            if(cnt != 0):\n",
        "                return False\n",
        "        return True \n",
        "\n",
        "    ## Relu function to calculate for a scalar input\n",
        "    def singleReluDerive(self, x):\n",
        "      if (x>0):\n",
        "        return 1\n",
        "      return 0\n",
        "\n",
        "    # Defining Backward propagation function\n",
        "    def backward(self,grad=None, grad_origin=None):\n",
        "        if(self.autograd):\n",
        "            if(grad is None):\n",
        "                grad = CTensor(np.ones_like(self.data))\n",
        "\n",
        "            if(grad_origin is not None):\n",
        "                if(self.children[grad_origin.id] == 0):\n",
        "                    raise Exception(\"cannot backprop more than once\")\n",
        "                else:\n",
        "                    self.children[grad_origin.id] -= 1\n",
        "\n",
        "            if(self.grad is None):\n",
        "                self.grad = grad\n",
        "            else:\n",
        "                self.grad += grad\n",
        "\n",
        "            assert(grad.autograd == False)\n",
        "            \n",
        "            if(self.creators is not None and \n",
        "               (self.all_children_accounted_for() or \n",
        "                grad_origin is None)):\n",
        "\n",
        "                if(self.creation_op == \"add\"):\n",
        "                    self.creators[0].backward(self.grad, self)\n",
        "                    self.creators[1].backward(self.grad, self)\n",
        "                    \n",
        "                if(self.creation_op == \"sub\"):\n",
        "                    self.creators[0].backward(CTensor(self.grad.data), self)\n",
        "                    self.creators[1].backward(CTensor(self.grad.__neg__().data), self)\n",
        "\n",
        "                if(self.creation_op == \"mul\"):\n",
        "                    new = self.grad * self.creators[1]\n",
        "                    self.creators[0].backward(new , self)\n",
        "                    new = self.grad * self.creators[0]\n",
        "                    self.creators[1].backward(new, self)                    \n",
        "                    \n",
        "                if(self.creation_op == \"mm\"):\n",
        "                    c0 = self.creators[0]\n",
        "                    c1 = self.creators[1]\n",
        "                    new = self.grad.mm(c1.transpose())\n",
        "                    c0.backward(new)\n",
        "                    new = self.grad.transpose().mm(c0).transpose()\n",
        "                    c1.backward(new)\n",
        "                \n",
        "                if(self.creation_op == \"index_select\"):\n",
        "                    new_grad = np.zeros_like(self.creators[0].data)\n",
        "                    indices_ = self.index_select_indices.data.flatten()\n",
        "                    grad_ = grad.data.reshape(len(indices_), -1)\n",
        "                    for i in range(len(indices_)):\n",
        "                        new_grad[indices_[i]] += grad_[i]\n",
        "                    self.creators[0].backward(CTensor(new_grad))\n",
        "                    \n",
        "                if(self.creation_op == \"transpose\"):\n",
        "                    self.creators[0].backward(self.grad.transpose())\n",
        "\n",
        "                if(\"sum\" in self.creation_op):\n",
        "                    dim = int(self.creation_op.split(\"_\")[1])\n",
        "                    self.creators[0].backward(self.grad.expand(dim, self.creators[0].data.shape[dim]))\n",
        "\n",
        "                if(\"expand\" in self.creation_op):\n",
        "                    dim = int(self.creation_op.split(\"_\")[1])\n",
        "                    self.creators[0].backward(self.grad.sum(dim))\n",
        "                    \n",
        "                if(self.creation_op == \"neg\"):\n",
        "                    self.creators[0].backward(self.grad.__neg__())\n",
        "\n",
        "                if(self.creation_op == \"sigmoid\"):\n",
        "                    ones = CTensor(np.ones_like(self.grad.data))\n",
        "                    self.creators[0].backward(self.grad * (self * (ones - self)))\n",
        "\n",
        "                if(self.creation_op == \"relu\"):\n",
        "                    vfunc = np.vectorize(singleReluDeriv)\n",
        "                    self.creators[0].backward(vfunc(self.grad))\n",
        "\n",
        "                if(self.creation_op == \"cross_entropy\"):\n",
        "                    dx = self.softmax_output - self.target_dist\n",
        "                    self.creators[0].backward(CTensor(dx))\n",
        "\n",
        "    #Defining Magic methods to support operations like +, ~, -, * and sum for vectors                    \n",
        "    def __add__(self, other):\n",
        "        if(self.autograd and other.autograd):\n",
        "            return CTensor(self.data + other.data, autograd=True, creators=[self,other], creation_op=\"add\")\n",
        "        return CTensor(self.data + other.data)\n",
        "\n",
        "    def __neg__(self):\n",
        "        if(self.autograd):\n",
        "            return CTensor(self.data * -1, autograd=True, creators=[self], creation_op=\"neg\")\n",
        "        return CTensor(self.data * -1)\n",
        "    \n",
        "    def __sub__(self, other):\n",
        "        if(self.autograd and other.autograd):\n",
        "            return CTensor(self.data - other.data, autograd=True, creators=[self,other], creation_op=\"sub\")\n",
        "        return CTensor(self.data - other.data)\n",
        "    \n",
        "    def __mul__(self, other):\n",
        "        if(self.autograd and other.autograd):\n",
        "            return CTensor(self.data * other.data, autograd=True, creators=[self,other], creation_op=\"mul\")\n",
        "        return CTensor(self.data * other.data)    \n",
        "\n",
        "    def sum(self, dim):\n",
        "        if(self.autograd):\n",
        "            return CTensor(self.data.sum(dim), autograd=True, creators=[self], creation_op=\"sum_\"+str(dim))\n",
        "        return CTensor(self.data.sum(dim))\n",
        "\n",
        "    #Defining functions below of higher order operations which will be used in forward propagation  \n",
        "    def expand(self, dim, copies):\n",
        "        trans_cmd = list(range(0,len(self.data.shape)))\n",
        "        trans_cmd.insert(dim,len(self.data.shape))\n",
        "        new_data = self.data.repeat(copies).reshape(list(self.data.shape) + [copies]).transpose(trans_cmd)\n",
        "        \n",
        "        if(self.autograd):\n",
        "            return CTensor(new_data, autograd=True, creators=[self], creation_op=\"expand_\"+str(dim))\n",
        "        return CTensor(new_data)\n",
        "    \n",
        "    def transpose(self):\n",
        "        if(self.autograd):\n",
        "            return CTensor(self.data.transpose(), autograd=True, creators=[self], creation_op=\"transpose\")\n",
        "        return CTensor(self.data.transpose())\n",
        "    \n",
        "    #for matrix multiplication\n",
        "    def mm(self, other):\n",
        "        if(self.autograd):\n",
        "            return CTensor(self.data.dot(other.data), autograd=True, creators=[self,other], creation_op=\"mm\")\n",
        "        return CTensor(self.data.dot(other.data))\n",
        "\n",
        "  #Sigmoid activation\n",
        "    def sigmoid(self):\n",
        "        if(self.autograd):\n",
        "            return CTensor(1 / (1 + np.exp(-self.data)), autograd=True, creators=[self], creation_op=\"sigmoid\")\n",
        "        return CTensor(1 / (1 + np.exp(-self.data)))\n",
        "\n",
        "  #Relu and softmax activation\n",
        "    def relu(self):\n",
        "      def singleRelu(self, x):\n",
        "        if (x>0):\n",
        "          return x\n",
        "        return 0\n",
        "\n",
        "        if(self.autograd):\n",
        "            vfunc = np.vectorize(singleRelu)\n",
        "            return CTensor(vfunc(self, self.data), autograd=True, creators=[self], creation_op=\"relu\")\n",
        "        return CTensor(vfunc(self, self.data))\n",
        "\n",
        "    def softmax(self):\n",
        "       return CTensor((np.exp((self.data))) / np.sum(np.exp((self.data))))\n",
        "\n",
        "\n",
        "  #There are several loss functions. Here we are using cross_entropy\n",
        "    def cross_entropy(self, target_indices):\n",
        "\n",
        "        temp = np.exp(self.data)\n",
        "        softmax_output = temp / np.sum(temp,\n",
        "                                       axis=len(self.data.shape)-1,\n",
        "                                       keepdims=True)\n",
        "        \n",
        "        t = target_indices.data.flatten()\n",
        "        p = softmax_output.reshape(len(t),-1)\n",
        "        target_dist = np.eye(p.shape[1])[t]\n",
        "        loss = -(np.log(p) * (target_dist)).sum(1).mean()\n",
        "\n",
        "        target_dist = target_dist.reshape(target_dist.shape[1], target_dist.shape[0])\n",
        "        if(self.autograd):\n",
        "            out = CTensor(loss,\n",
        "                         autograd=True,\n",
        "                         creators=[self],\n",
        "                         creation_op=\"cross_entropy\")\n",
        "            out.softmax_output = softmax_output\n",
        "            out.target_dist = target_dist\n",
        "            return out\n",
        "\n",
        "        return CTensor(loss)\n",
        "\n",
        "    # this function is used to randomly pick the corresponding weights for given input data\n",
        "    def index_select(self, indices):\n",
        "        if(self.autograd):\n",
        "            new = CTensor(self.data[indices.data],\n",
        "                         autograd=True,\n",
        "                         creators=[self],\n",
        "                         creation_op=\"index_select\")\n",
        "            new.index_select_indices = indices\n",
        "            return new\n",
        "        return CTensor(self.data[indices.data])\n",
        "\n",
        "    #Tanh activation\n",
        "    def tanh(self):\n",
        "        if(self.autograd):\n",
        "            return CTensor(np.tanh(self.data),\n",
        "                          autograd=True,\n",
        "                          creators=[self],\n",
        "                          creation_op=\"tanh\")\n",
        "        return CTensor(np.tanh(self.data))   \n",
        "    \n",
        "    def __repr__(self):\n",
        "        return str(self.data.__repr__())\n",
        "    \n",
        "    def __str__(self):\n",
        "        return str(self.data.__str__())  "
      ],
      "execution_count": 0,
      "outputs": []
    },
    {
      "cell_type": "markdown",
      "metadata": {
        "id": "e43qmAP44iZj",
        "colab_type": "text"
      },
      "source": [
        "## Defining a super class Layer and usig that to define subclasess like Linear Layer and Sequential layer."
      ]
    },
    {
      "cell_type": "code",
      "metadata": {
        "id": "xp1ucRU8mI_w",
        "colab_type": "code",
        "colab": {}
      },
      "source": [
        "class Layer(object):  \n",
        "    def __init__(self):\n",
        "        self.parameters = list()\n",
        "        \n",
        "    def get_parameters(self):\n",
        "        return self.parameters\n",
        "\n",
        "\n",
        "class Linear(Layer):\n",
        "    def __init__(self, n_inputs, n_outputs):\n",
        "        super().__init__()\n",
        "        W = np.random.randn(n_inputs, n_outputs) * np.sqrt(1.0/(n_inputs))\n",
        "        self.weight = CTensor(W, autograd=True)\n",
        "        self.bias = CTensor(np.zeros(n_outputs), autograd=True)\n",
        "        \n",
        "        self.parameters.append(self.weight)\n",
        "        self.parameters.append(self.bias)\n",
        "\n",
        "    def forward(self, input):\n",
        "        return input.mm(self.weight)+self.bias.expand(0,len(input.data))"
      ],
      "execution_count": 0,
      "outputs": []
    },
    {
      "cell_type": "code",
      "metadata": {
        "id": "Wfwh85G2l3-u",
        "colab_type": "code",
        "colab": {}
      },
      "source": [
        "class Sequential(Layer):\n",
        "    \n",
        "    def __init__(self, layers=list()):\n",
        "        super().__init__()      \n",
        "        self.layers = layers\n",
        "    \n",
        "    def add(self, layer):\n",
        "        self.layers.append(layer)\n",
        "        \n",
        "    def forward(self, input):\n",
        "        for layer in self.layers:\n",
        "            input = layer.forward(input)\n",
        "        return input\n",
        "    \n",
        "    def get_parameters(self):\n",
        "        params = list()\n",
        "        for l in self.layers:\n",
        "            params += l.get_parameters()\n",
        "        return params"
      ],
      "execution_count": 0,
      "outputs": []
    },
    {
      "cell_type": "markdown",
      "metadata": {
        "id": "ItGW0DQv4TmJ",
        "colab_type": "text"
      },
      "source": [
        "## Defining Loss Classes"
      ]
    },
    {
      "cell_type": "code",
      "metadata": {
        "id": "PwcXjqBll2WR",
        "colab_type": "code",
        "colab": {}
      },
      "source": [
        "class MSELoss(Layer):   \n",
        "    def __init__(self):\n",
        "        super().__init__()\n",
        "    \n",
        "    def forward(self, pred, target):\n",
        "        return ((pred - target)*(pred - target)).sum(0)"
      ],
      "execution_count": 0,
      "outputs": []
    },
    {
      "cell_type": "code",
      "metadata": {
        "id": "6L6GW6heCbGm",
        "colab_type": "code",
        "colab": {}
      },
      "source": [
        "class CrossEntropyLoss():\n",
        "    def __init__(self):\n",
        "        super().__init__()\n",
        "    \n",
        "    def forward(self, input, target):\n",
        "        return input.cross_entropy(target)"
      ],
      "execution_count": 0,
      "outputs": []
    },
    {
      "cell_type": "markdown",
      "metadata": {
        "id": "F5SvhtgX4JWW",
        "colab_type": "text"
      },
      "source": [
        "## Defining Class for SGD Optimizer"
      ]
    },
    {
      "cell_type": "code",
      "metadata": {
        "id": "AZsOXZEQmYnD",
        "colab_type": "code",
        "colab": {}
      },
      "source": [
        "class SGD(object):\n",
        "    def __init__(self, parameters, alpha=0.1):\n",
        "        self.parameters = parameters\n",
        "        self.alpha = alpha  \n",
        "    def zero(self):\n",
        "        for p in self.parameters:\n",
        "            p.grad.data *= 0    \n",
        "    def step(self, zero=True):  \n",
        "        for p in self.parameters:\n",
        "            if (p and p.grad):\n",
        "              p.data -= p.grad.data * self.alpha\n",
        "              if(zero):\n",
        "                  p.grad.data *= 0"
      ],
      "execution_count": 0,
      "outputs": []
    },
    {
      "cell_type": "markdown",
      "metadata": {
        "id": "OVNHqM3M4Dcy",
        "colab_type": "text"
      },
      "source": [
        "## Defining Classes for Non Linearity Functions"
      ]
    },
    {
      "cell_type": "code",
      "metadata": {
        "id": "A7rhj-MBt8Uz",
        "colab_type": "code",
        "colab": {}
      },
      "source": [
        "class Sigmoid(Layer):\n",
        "    def __init__(self):\n",
        "        super().__init__()\n",
        "    \n",
        "    def forward(self, input):\n",
        "        return input.sigmoid()"
      ],
      "execution_count": 0,
      "outputs": []
    },
    {
      "cell_type": "code",
      "metadata": {
        "id": "iAUbH2ysCxZo",
        "colab_type": "code",
        "colab": {}
      },
      "source": [
        "class Relu(Layer):\n",
        "    def __init__(self):\n",
        "        super().__init__()\n",
        "    \n",
        "    def forward(self, input):\n",
        "        return input.relu()"
      ],
      "execution_count": 0,
      "outputs": []
    },
    {
      "cell_type": "code",
      "metadata": {
        "id": "ZEL_4osh3-iM",
        "colab_type": "code",
        "colab": {}
      },
      "source": [
        "class Tanh(Layer):\n",
        "    def __init__(self):\n",
        "        super().__init__()\n",
        "    \n",
        "    def forward(self, input):\n",
        "        return input.tanh()"
      ],
      "execution_count": 0,
      "outputs": []
    },
    {
      "cell_type": "code",
      "metadata": {
        "id": "CogJA-dmDV8Y",
        "colab_type": "code",
        "colab": {}
      },
      "source": [
        "class Softmax(Layer):\n",
        "    def __init__(self):\n",
        "      super().__init__()\n",
        "    def forward(self, x):\n",
        "      return input.softmax()"
      ],
      "execution_count": 0,
      "outputs": []
    },
    {
      "cell_type": "code",
      "metadata": {
        "id": "SoHk5o2040ob",
        "colab_type": "code",
        "colab": {}
      },
      "source": [
        "class Tanh(Layer):\n",
        "    def __init__(self):\n",
        "        super().__init__()\n",
        "    \n",
        "    def forward(self, input):\n",
        "        return input.tanh()"
      ],
      "execution_count": 0,
      "outputs": []
    },
    {
      "cell_type": "markdown",
      "metadata": {
        "id": "laWy05he4BXQ",
        "colab_type": "text"
      },
      "source": [
        "## Defining Class for Embedding Layer which is not used for MNIST data. This layer will be useful to generate a higher order input or for the non-number data like text. This layer is used in NLP for vectorizing the raw text."
      ]
    },
    {
      "cell_type": "code",
      "metadata": {
        "id": "NFLZcjETn8A0",
        "colab_type": "code",
        "colab": {}
      },
      "source": [
        "class Embedding(Layer): \n",
        "    def __init__(self, vocab_size, dim):\n",
        "        super().__init__()\n",
        "        \n",
        "        self.vocab_size = vocab_size\n",
        "        self.dim = dim\n",
        "        \n",
        "        # this random initialiation style is just a convention from word2vec\n",
        "        self.weight = CTensor((np.random.rand(vocab_size, dim) - 0.5) / dim, autograd=True)\n",
        "        \n",
        "        self.parameters.append(self.weight)\n",
        "    \n",
        "    def forward(self, input):\n",
        "        return self.weight.index_select(input)"
      ],
      "execution_count": 0,
      "outputs": []
    },
    {
      "cell_type": "code",
      "metadata": {
        "id": "qmgvLft7eMkx",
        "colab_type": "code",
        "colab": {}
      },
      "source": [
        "images, labels = (x_train, y_train)\n",
        "test_images, test_labels = (x_test, y_test)"
      ],
      "execution_count": 0,
      "outputs": []
    },
    {
      "cell_type": "markdown",
      "metadata": {
        "id": "9jhiJkVz4eGi",
        "colab_type": "text"
      },
      "source": [
        "## One hot encoding of labels"
      ]
    },
    {
      "cell_type": "code",
      "metadata": {
        "id": "s0RWhaX0ea9U",
        "colab_type": "code",
        "colab": {}
      },
      "source": [
        "one_hot_labels = np.zeros((len(labels), 10))\n",
        "for i,j in enumerate(labels):\n",
        "  one_hot_labels[i][j] = 1\n",
        "labels = one_hot_labels"
      ],
      "execution_count": 0,
      "outputs": []
    },
    {
      "cell_type": "code",
      "metadata": {
        "id": "qgVELx-s-f-l",
        "colab_type": "code",
        "outputId": "d0921f08-881f-449f-aff3-10470135faf0",
        "colab": {
          "base_uri": "https://localhost:8080/",
          "height": 34
        }
      },
      "source": [
        "labels.shape"
      ],
      "execution_count": 0,
      "outputs": [
        {
          "output_type": "execute_result",
          "data": {
            "text/plain": [
              "(60000, 10)"
            ]
          },
          "metadata": {
            "tags": []
          },
          "execution_count": 45
        }
      ]
    },
    {
      "cell_type": "code",
      "metadata": {
        "id": "adFQEEfTelIX",
        "colab_type": "code",
        "colab": {}
      },
      "source": [
        "one_hot_labels = np.zeros((len(test_labels), 10))\n",
        "for i,j in enumerate(test_labels):\n",
        "  one_hot_labels[i][j] = 1\n",
        "test_labels = one_hot_labels"
      ],
      "execution_count": 0,
      "outputs": []
    },
    {
      "cell_type": "code",
      "metadata": {
        "id": "pQu_y9_ubSYE",
        "colab_type": "code",
        "colab": {}
      },
      "source": [
        "nlabels = 10\n",
        "hidden_size1 = 100\n",
        "hidden_size2 = 64\n",
        "npixels = 784\n",
        "alpha = 0.005\n",
        "iterations = 100"
      ],
      "execution_count": 0,
      "outputs": []
    },
    {
      "cell_type": "code",
      "metadata": {
        "id": "Y4Bq7Ga29pmk",
        "colab_type": "code",
        "outputId": "fd7f0981-2458-4bea-e7f5-3420ed5cddf9",
        "colab": {
          "base_uri": "https://localhost:8080/",
          "height": 34
        }
      },
      "source": [
        "x_train.shape"
      ],
      "execution_count": 0,
      "outputs": [
        {
          "output_type": "execute_result",
          "data": {
            "text/plain": [
              "(60000, 28, 28)"
            ]
          },
          "metadata": {
            "tags": []
          },
          "execution_count": 48
        }
      ]
    },
    {
      "cell_type": "code",
      "metadata": {
        "id": "ZjRDxwNU-pkV",
        "colab_type": "code",
        "outputId": "934fd5fc-9137-4cac-b348-858ab9483de0",
        "colab": {
          "base_uri": "https://localhost:8080/",
          "height": 34
        }
      },
      "source": [
        "labels.shape"
      ],
      "execution_count": 0,
      "outputs": [
        {
          "output_type": "execute_result",
          "data": {
            "text/plain": [
              "(60000, 10)"
            ]
          },
          "metadata": {
            "tags": []
          },
          "execution_count": 49
        }
      ]
    },
    {
      "cell_type": "code",
      "metadata": {
        "id": "C2aYW4psC0ik",
        "colab_type": "code",
        "colab": {}
      },
      "source": [
        "labels = labels.astype(np.int8)"
      ],
      "execution_count": 0,
      "outputs": []
    },
    {
      "cell_type": "code",
      "metadata": {
        "id": "2X2t0-iIDDvE",
        "colab_type": "code",
        "outputId": "a2796ae3-de8f-4b17-b703-b710c3bc2304",
        "colab": {
          "base_uri": "https://localhost:8080/",
          "height": 34
        }
      },
      "source": [
        "labels[0]"
      ],
      "execution_count": 0,
      "outputs": [
        {
          "output_type": "execute_result",
          "data": {
            "text/plain": [
              "array([0, 0, 0, 0, 0, 1, 0, 0, 0, 0], dtype=int8)"
            ]
          },
          "metadata": {
            "tags": []
          },
          "execution_count": 51
        }
      ]
    },
    {
      "cell_type": "code",
      "metadata": {
        "id": "d-xDds3f-Zko",
        "colab_type": "code",
        "colab": {}
      },
      "source": [
        "x_train = x_train.reshape(60000, 784)"
      ],
      "execution_count": 0,
      "outputs": []
    },
    {
      "cell_type": "code",
      "metadata": {
        "id": "w7aqa3RnniKW",
        "colab_type": "code",
        "outputId": "5eac7578-e737-49c2-f26f-f36a7fdca822",
        "colab": {
          "base_uri": "https://localhost:8080/",
          "height": 187
        }
      },
      "source": [
        "import numpy\n",
        "np.random.seed(0)\n",
        "\n",
        "batch_size = 64\n",
        "\n",
        "model = Sequential([Linear(784,300), Tanh(), Linear(300,100), Tanh(), Linear(100,10), Sigmoid()])\n",
        "criterion = CrossEntropyLoss()\n",
        "\n",
        "optim = SGD(parameters=model.get_parameters(), alpha=0.01)\n",
        "\n",
        "trainloss=0.0\n",
        "total_loss = 0.0\n",
        "for i in range(10):\n",
        "  for j in range(x_train.shape[0]):\n",
        "    tobj = CTensor(x_train[j,:], autograd=True)\n",
        "    lobj = CTensor(labels[j,:], autograd=True)\n",
        "    pred = model.forward(tobj)\n",
        "    trainloss= criterion.forward(pred, lobj)\n",
        "    trainloss.backward(CTensor(np.ones_like(trainloss.data)))\n",
        "    optim.step()\n",
        "    total_loss = total_loss + trainloss.data\n",
        "  print('Epoch No: {} loss: {}'.format(i, trainloss.data))"
      ],
      "execution_count": 0,
      "outputs": [
        {
          "output_type": "stream",
          "text": [
            "Epoch No: 0 loss: 2.302585184854487\n",
            "Epoch No: 1 loss: 2.3025851281365872\n",
            "Epoch No: 2 loss: 2.302585113362383\n",
            "Epoch No: 3 loss: 2.3025851069040373\n",
            "Epoch No: 4 loss: 2.302585103366119\n",
            "Epoch No: 5 loss: 2.302585101163374\n",
            "Epoch No: 6 loss: 2.3025850996735975\n",
            "Epoch No: 7 loss: 2.3025850986059053\n",
            "Epoch No: 8 loss: 2.3025850978072\n",
            "Epoch No: 9 loss: 2.302585097189673\n"
          ],
          "name": "stdout"
        }
      ]
    }
  ]
}
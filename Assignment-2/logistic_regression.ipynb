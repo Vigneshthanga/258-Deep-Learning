{
  "nbformat": 4,
  "nbformat_minor": 0,
  "metadata": {
    "colab": {
      "name": "logistic_regression.ipynb",
      "provenance": [],
      "collapsed_sections": [],
      "authorship_tag": "ABX9TyOMtnfr/fWj3o8DWH6Oa8mx",
      "include_colab_link": true
    },
    "kernelspec": {
      "name": "python3",
      "display_name": "Python 3"
    },
    "accelerator": "GPU"
  },
  "cells": [
    {
      "cell_type": "markdown",
      "metadata": {
        "id": "view-in-github",
        "colab_type": "text"
      },
      "source": [
        "<a href=\"https://colab.research.google.com/github/Vigneshthanga/258-Deep-Learning/blob/master/Assignment-2/logistic_regression.ipynb\" target=\"_parent\"><img src=\"https://colab.research.google.com/assets/colab-badge.svg\" alt=\"Open In Colab\"/></a>"
      ]
    },
    {
      "cell_type": "markdown",
      "metadata": {
        "id": "652CKXxrs6Lv",
        "colab_type": "text"
      },
      "source": [
        "## Importing for module auto reload\n"
      ]
    },
    {
      "cell_type": "code",
      "metadata": {
        "id": "LjI3nwglgchp",
        "colab_type": "code",
        "colab": {}
      },
      "source": [
        "#To plot the graph in the output cell and save it with notebook\n",
        "%matplotlib inline\n",
        "\n",
        "#To reload all modules before executing a new line\n",
        "%reload_ext autoreload\n",
        "%autoreload 2"
      ],
      "execution_count": 0,
      "outputs": []
    },
    {
      "cell_type": "markdown",
      "metadata": {
        "id": "obOgdSBas-rG",
        "colab_type": "text"
      },
      "source": [
        "## Importing libraries"
      ]
    },
    {
      "cell_type": "code",
      "metadata": {
        "id": "CFnh0HtAhMsA",
        "colab_type": "code",
        "outputId": "79fd88fb-fbbd-47ec-f431-953d7f030ea7",
        "colab": {
          "base_uri": "https://localhost:8080/",
          "height": 34
        }
      },
      "source": [
        "%tensorflow_version 2.x\n",
        "import tensorflow as tf\n",
        "print(tf.__version__)\n",
        "from matplotlib import pyplot as plt\n",
        "import pandas as pd\n",
        "from keras.models import Sequential\n",
        "from keras.layers import Dense\n",
        "from keras.wrappers.scikit_learn import KerasClassifier\n",
        "from sklearn.model_selection import cross_val_score\n",
        "from sklearn.preprocessing import LabelEncoder\n",
        "from sklearn.model_selection import StratifiedKFold\n",
        "from sklearn.preprocessing import StandardScaler\n",
        "from sklearn.pipeline import Pipeline"
      ],
      "execution_count": 0,
      "outputs": [
        {
          "output_type": "stream",
          "text": [
            "2.2.0-rc4\n"
          ],
          "name": "stdout"
        }
      ]
    },
    {
      "cell_type": "markdown",
      "metadata": {
        "id": "x1zOYFT4tBYf",
        "colab_type": "text"
      },
      "source": [
        "## Mounting Google Drive"
      ]
    },
    {
      "cell_type": "code",
      "metadata": {
        "id": "h2oFgGK0hOdG",
        "colab_type": "code",
        "outputId": "ffa3e741-6e7f-48df-d24a-f334f0175dbc",
        "colab": {
          "base_uri": "https://localhost:8080/",
          "height": 34
        }
      },
      "source": [
        "from google.colab import drive\n",
        "drive.mount('/content/drive')"
      ],
      "execution_count": 0,
      "outputs": [
        {
          "output_type": "stream",
          "text": [
            "Drive already mounted at /content/drive; to attempt to forcibly remount, call drive.mount(\"/content/drive\", force_remount=True).\n"
          ],
          "name": "stdout"
        }
      ]
    },
    {
      "cell_type": "markdown",
      "metadata": {
        "id": "P02a4g0ztGUl",
        "colab_type": "text"
      },
      "source": [
        "## Loading Sonar Data"
      ]
    },
    {
      "cell_type": "code",
      "metadata": {
        "id": "872QUhwlhP4g",
        "colab_type": "code",
        "colab": {}
      },
      "source": [
        "root_dir = \"/content/drive/My Drive/sonar-data/\""
      ],
      "execution_count": 0,
      "outputs": []
    },
    {
      "cell_type": "code",
      "metadata": {
        "id": "rKrMVtvRhhTp",
        "colab_type": "code",
        "colab": {}
      },
      "source": [
        "data = root_dir+'sonar.csv'"
      ],
      "execution_count": 0,
      "outputs": []
    },
    {
      "cell_type": "code",
      "metadata": {
        "id": "zBvaI4sThk_v",
        "colab_type": "code",
        "colab": {}
      },
      "source": [
        "df = pd.read_csv(data, header=None)"
      ],
      "execution_count": 0,
      "outputs": []
    },
    {
      "cell_type": "code",
      "metadata": {
        "id": "MsONFHbwiLjd",
        "colab_type": "code",
        "outputId": "324eabdd-510c-4ccd-eea3-1d7a724bc26f",
        "colab": {
          "base_uri": "https://localhost:8080/",
          "height": 195
        }
      },
      "source": [
        "df.head(4)"
      ],
      "execution_count": 0,
      "outputs": [
        {
          "output_type": "execute_result",
          "data": {
            "text/html": [
              "<div>\n",
              "<style scoped>\n",
              "    .dataframe tbody tr th:only-of-type {\n",
              "        vertical-align: middle;\n",
              "    }\n",
              "\n",
              "    .dataframe tbody tr th {\n",
              "        vertical-align: top;\n",
              "    }\n",
              "\n",
              "    .dataframe thead th {\n",
              "        text-align: right;\n",
              "    }\n",
              "</style>\n",
              "<table border=\"1\" class=\"dataframe\">\n",
              "  <thead>\n",
              "    <tr style=\"text-align: right;\">\n",
              "      <th></th>\n",
              "      <th>0</th>\n",
              "      <th>1</th>\n",
              "      <th>2</th>\n",
              "      <th>3</th>\n",
              "      <th>4</th>\n",
              "      <th>5</th>\n",
              "      <th>6</th>\n",
              "      <th>7</th>\n",
              "      <th>8</th>\n",
              "      <th>9</th>\n",
              "      <th>10</th>\n",
              "      <th>11</th>\n",
              "      <th>12</th>\n",
              "      <th>13</th>\n",
              "      <th>14</th>\n",
              "      <th>15</th>\n",
              "      <th>16</th>\n",
              "      <th>17</th>\n",
              "      <th>18</th>\n",
              "      <th>19</th>\n",
              "      <th>20</th>\n",
              "      <th>21</th>\n",
              "      <th>22</th>\n",
              "      <th>23</th>\n",
              "      <th>24</th>\n",
              "      <th>25</th>\n",
              "      <th>26</th>\n",
              "      <th>27</th>\n",
              "      <th>28</th>\n",
              "      <th>29</th>\n",
              "      <th>30</th>\n",
              "      <th>31</th>\n",
              "      <th>32</th>\n",
              "      <th>33</th>\n",
              "      <th>34</th>\n",
              "      <th>35</th>\n",
              "      <th>36</th>\n",
              "      <th>37</th>\n",
              "      <th>38</th>\n",
              "      <th>39</th>\n",
              "      <th>40</th>\n",
              "      <th>41</th>\n",
              "      <th>42</th>\n",
              "      <th>43</th>\n",
              "      <th>44</th>\n",
              "      <th>45</th>\n",
              "      <th>46</th>\n",
              "      <th>47</th>\n",
              "      <th>48</th>\n",
              "      <th>49</th>\n",
              "      <th>50</th>\n",
              "      <th>51</th>\n",
              "      <th>52</th>\n",
              "      <th>53</th>\n",
              "      <th>54</th>\n",
              "      <th>55</th>\n",
              "      <th>56</th>\n",
              "      <th>57</th>\n",
              "      <th>58</th>\n",
              "      <th>59</th>\n",
              "      <th>60</th>\n",
              "    </tr>\n",
              "  </thead>\n",
              "  <tbody>\n",
              "    <tr>\n",
              "      <th>0</th>\n",
              "      <td>0.0200</td>\n",
              "      <td>0.0371</td>\n",
              "      <td>0.0428</td>\n",
              "      <td>0.0207</td>\n",
              "      <td>0.0954</td>\n",
              "      <td>0.0986</td>\n",
              "      <td>0.1539</td>\n",
              "      <td>0.1601</td>\n",
              "      <td>0.3109</td>\n",
              "      <td>0.2111</td>\n",
              "      <td>0.1609</td>\n",
              "      <td>0.1582</td>\n",
              "      <td>0.2238</td>\n",
              "      <td>0.0645</td>\n",
              "      <td>0.0660</td>\n",
              "      <td>0.2273</td>\n",
              "      <td>0.3100</td>\n",
              "      <td>0.2999</td>\n",
              "      <td>0.5078</td>\n",
              "      <td>0.4797</td>\n",
              "      <td>0.5783</td>\n",
              "      <td>0.5071</td>\n",
              "      <td>0.4328</td>\n",
              "      <td>0.5550</td>\n",
              "      <td>0.6711</td>\n",
              "      <td>0.6415</td>\n",
              "      <td>0.7104</td>\n",
              "      <td>0.8080</td>\n",
              "      <td>0.6791</td>\n",
              "      <td>0.3857</td>\n",
              "      <td>0.1307</td>\n",
              "      <td>0.2604</td>\n",
              "      <td>0.5121</td>\n",
              "      <td>0.7547</td>\n",
              "      <td>0.8537</td>\n",
              "      <td>0.8507</td>\n",
              "      <td>0.6692</td>\n",
              "      <td>0.6097</td>\n",
              "      <td>0.4943</td>\n",
              "      <td>0.2744</td>\n",
              "      <td>0.0510</td>\n",
              "      <td>0.2834</td>\n",
              "      <td>0.2825</td>\n",
              "      <td>0.4256</td>\n",
              "      <td>0.2641</td>\n",
              "      <td>0.1386</td>\n",
              "      <td>0.1051</td>\n",
              "      <td>0.1343</td>\n",
              "      <td>0.0383</td>\n",
              "      <td>0.0324</td>\n",
              "      <td>0.0232</td>\n",
              "      <td>0.0027</td>\n",
              "      <td>0.0065</td>\n",
              "      <td>0.0159</td>\n",
              "      <td>0.0072</td>\n",
              "      <td>0.0167</td>\n",
              "      <td>0.0180</td>\n",
              "      <td>0.0084</td>\n",
              "      <td>0.0090</td>\n",
              "      <td>0.0032</td>\n",
              "      <td>R</td>\n",
              "    </tr>\n",
              "    <tr>\n",
              "      <th>1</th>\n",
              "      <td>0.0453</td>\n",
              "      <td>0.0523</td>\n",
              "      <td>0.0843</td>\n",
              "      <td>0.0689</td>\n",
              "      <td>0.1183</td>\n",
              "      <td>0.2583</td>\n",
              "      <td>0.2156</td>\n",
              "      <td>0.3481</td>\n",
              "      <td>0.3337</td>\n",
              "      <td>0.2872</td>\n",
              "      <td>0.4918</td>\n",
              "      <td>0.6552</td>\n",
              "      <td>0.6919</td>\n",
              "      <td>0.7797</td>\n",
              "      <td>0.7464</td>\n",
              "      <td>0.9444</td>\n",
              "      <td>1.0000</td>\n",
              "      <td>0.8874</td>\n",
              "      <td>0.8024</td>\n",
              "      <td>0.7818</td>\n",
              "      <td>0.5212</td>\n",
              "      <td>0.4052</td>\n",
              "      <td>0.3957</td>\n",
              "      <td>0.3914</td>\n",
              "      <td>0.3250</td>\n",
              "      <td>0.3200</td>\n",
              "      <td>0.3271</td>\n",
              "      <td>0.2767</td>\n",
              "      <td>0.4423</td>\n",
              "      <td>0.2028</td>\n",
              "      <td>0.3788</td>\n",
              "      <td>0.2947</td>\n",
              "      <td>0.1984</td>\n",
              "      <td>0.2341</td>\n",
              "      <td>0.1306</td>\n",
              "      <td>0.4182</td>\n",
              "      <td>0.3835</td>\n",
              "      <td>0.1057</td>\n",
              "      <td>0.1840</td>\n",
              "      <td>0.1970</td>\n",
              "      <td>0.1674</td>\n",
              "      <td>0.0583</td>\n",
              "      <td>0.1401</td>\n",
              "      <td>0.1628</td>\n",
              "      <td>0.0621</td>\n",
              "      <td>0.0203</td>\n",
              "      <td>0.0530</td>\n",
              "      <td>0.0742</td>\n",
              "      <td>0.0409</td>\n",
              "      <td>0.0061</td>\n",
              "      <td>0.0125</td>\n",
              "      <td>0.0084</td>\n",
              "      <td>0.0089</td>\n",
              "      <td>0.0048</td>\n",
              "      <td>0.0094</td>\n",
              "      <td>0.0191</td>\n",
              "      <td>0.0140</td>\n",
              "      <td>0.0049</td>\n",
              "      <td>0.0052</td>\n",
              "      <td>0.0044</td>\n",
              "      <td>R</td>\n",
              "    </tr>\n",
              "    <tr>\n",
              "      <th>2</th>\n",
              "      <td>0.0262</td>\n",
              "      <td>0.0582</td>\n",
              "      <td>0.1099</td>\n",
              "      <td>0.1083</td>\n",
              "      <td>0.0974</td>\n",
              "      <td>0.2280</td>\n",
              "      <td>0.2431</td>\n",
              "      <td>0.3771</td>\n",
              "      <td>0.5598</td>\n",
              "      <td>0.6194</td>\n",
              "      <td>0.6333</td>\n",
              "      <td>0.7060</td>\n",
              "      <td>0.5544</td>\n",
              "      <td>0.5320</td>\n",
              "      <td>0.6479</td>\n",
              "      <td>0.6931</td>\n",
              "      <td>0.6759</td>\n",
              "      <td>0.7551</td>\n",
              "      <td>0.8929</td>\n",
              "      <td>0.8619</td>\n",
              "      <td>0.7974</td>\n",
              "      <td>0.6737</td>\n",
              "      <td>0.4293</td>\n",
              "      <td>0.3648</td>\n",
              "      <td>0.5331</td>\n",
              "      <td>0.2413</td>\n",
              "      <td>0.5070</td>\n",
              "      <td>0.8533</td>\n",
              "      <td>0.6036</td>\n",
              "      <td>0.8514</td>\n",
              "      <td>0.8512</td>\n",
              "      <td>0.5045</td>\n",
              "      <td>0.1862</td>\n",
              "      <td>0.2709</td>\n",
              "      <td>0.4232</td>\n",
              "      <td>0.3043</td>\n",
              "      <td>0.6116</td>\n",
              "      <td>0.6756</td>\n",
              "      <td>0.5375</td>\n",
              "      <td>0.4719</td>\n",
              "      <td>0.4647</td>\n",
              "      <td>0.2587</td>\n",
              "      <td>0.2129</td>\n",
              "      <td>0.2222</td>\n",
              "      <td>0.2111</td>\n",
              "      <td>0.0176</td>\n",
              "      <td>0.1348</td>\n",
              "      <td>0.0744</td>\n",
              "      <td>0.0130</td>\n",
              "      <td>0.0106</td>\n",
              "      <td>0.0033</td>\n",
              "      <td>0.0232</td>\n",
              "      <td>0.0166</td>\n",
              "      <td>0.0095</td>\n",
              "      <td>0.0180</td>\n",
              "      <td>0.0244</td>\n",
              "      <td>0.0316</td>\n",
              "      <td>0.0164</td>\n",
              "      <td>0.0095</td>\n",
              "      <td>0.0078</td>\n",
              "      <td>R</td>\n",
              "    </tr>\n",
              "    <tr>\n",
              "      <th>3</th>\n",
              "      <td>0.0100</td>\n",
              "      <td>0.0171</td>\n",
              "      <td>0.0623</td>\n",
              "      <td>0.0205</td>\n",
              "      <td>0.0205</td>\n",
              "      <td>0.0368</td>\n",
              "      <td>0.1098</td>\n",
              "      <td>0.1276</td>\n",
              "      <td>0.0598</td>\n",
              "      <td>0.1264</td>\n",
              "      <td>0.0881</td>\n",
              "      <td>0.1992</td>\n",
              "      <td>0.0184</td>\n",
              "      <td>0.2261</td>\n",
              "      <td>0.1729</td>\n",
              "      <td>0.2131</td>\n",
              "      <td>0.0693</td>\n",
              "      <td>0.2281</td>\n",
              "      <td>0.4060</td>\n",
              "      <td>0.3973</td>\n",
              "      <td>0.2741</td>\n",
              "      <td>0.3690</td>\n",
              "      <td>0.5556</td>\n",
              "      <td>0.4846</td>\n",
              "      <td>0.3140</td>\n",
              "      <td>0.5334</td>\n",
              "      <td>0.5256</td>\n",
              "      <td>0.2520</td>\n",
              "      <td>0.2090</td>\n",
              "      <td>0.3559</td>\n",
              "      <td>0.6260</td>\n",
              "      <td>0.7340</td>\n",
              "      <td>0.6120</td>\n",
              "      <td>0.3497</td>\n",
              "      <td>0.3953</td>\n",
              "      <td>0.3012</td>\n",
              "      <td>0.5408</td>\n",
              "      <td>0.8814</td>\n",
              "      <td>0.9857</td>\n",
              "      <td>0.9167</td>\n",
              "      <td>0.6121</td>\n",
              "      <td>0.5006</td>\n",
              "      <td>0.3210</td>\n",
              "      <td>0.3202</td>\n",
              "      <td>0.4295</td>\n",
              "      <td>0.3654</td>\n",
              "      <td>0.2655</td>\n",
              "      <td>0.1576</td>\n",
              "      <td>0.0681</td>\n",
              "      <td>0.0294</td>\n",
              "      <td>0.0241</td>\n",
              "      <td>0.0121</td>\n",
              "      <td>0.0036</td>\n",
              "      <td>0.0150</td>\n",
              "      <td>0.0085</td>\n",
              "      <td>0.0073</td>\n",
              "      <td>0.0050</td>\n",
              "      <td>0.0044</td>\n",
              "      <td>0.0040</td>\n",
              "      <td>0.0117</td>\n",
              "      <td>R</td>\n",
              "    </tr>\n",
              "  </tbody>\n",
              "</table>\n",
              "</div>"
            ],
            "text/plain": [
              "       0       1       2       3       4   ...      56      57      58      59  60\n",
              "0  0.0200  0.0371  0.0428  0.0207  0.0954  ...  0.0180  0.0084  0.0090  0.0032   R\n",
              "1  0.0453  0.0523  0.0843  0.0689  0.1183  ...  0.0140  0.0049  0.0052  0.0044   R\n",
              "2  0.0262  0.0582  0.1099  0.1083  0.0974  ...  0.0316  0.0164  0.0095  0.0078   R\n",
              "3  0.0100  0.0171  0.0623  0.0205  0.0205  ...  0.0050  0.0044  0.0040  0.0117   R\n",
              "\n",
              "[4 rows x 61 columns]"
            ]
          },
          "metadata": {
            "tags": []
          },
          "execution_count": 86
        }
      ]
    },
    {
      "cell_type": "code",
      "metadata": {
        "id": "m6_sjjPe3Ah6",
        "colab_type": "code",
        "outputId": "177963a6-21ed-4196-f160-327db87878a6",
        "colab": {
          "base_uri": "https://localhost:8080/",
          "height": 34
        }
      },
      "source": [
        "df.shape"
      ],
      "execution_count": 0,
      "outputs": [
        {
          "output_type": "execute_result",
          "data": {
            "text/plain": [
              "(208, 61)"
            ]
          },
          "metadata": {
            "tags": []
          },
          "execution_count": 87
        }
      ]
    },
    {
      "cell_type": "markdown",
      "metadata": {
        "id": "zwSfkc6-tRyK",
        "colab_type": "text"
      },
      "source": [
        "## Importing Keras Library"
      ]
    },
    {
      "cell_type": "code",
      "metadata": {
        "id": "Rwo77fe90jRN",
        "colab_type": "code",
        "colab": {}
      },
      "source": [
        "from keras.models import Sequential\n",
        "from keras.layers import Dense"
      ],
      "execution_count": 0,
      "outputs": []
    },
    {
      "cell_type": "code",
      "metadata": {
        "id": "nlgXDXlS1t01",
        "colab_type": "code",
        "colab": {}
      },
      "source": [
        "X = df.iloc[:,0:60]\n",
        "Y = df[[60]]"
      ],
      "execution_count": 0,
      "outputs": []
    },
    {
      "cell_type": "code",
      "metadata": {
        "id": "hlOVCRBL27SA",
        "colab_type": "code",
        "outputId": "afd8832b-63de-48a1-d395-f56ae5545b93",
        "colab": {
          "base_uri": "https://localhost:8080/",
          "height": 34
        }
      },
      "source": [
        "X.shape"
      ],
      "execution_count": 0,
      "outputs": [
        {
          "output_type": "execute_result",
          "data": {
            "text/plain": [
              "(208, 60)"
            ]
          },
          "metadata": {
            "tags": []
          },
          "execution_count": 90
        }
      ]
    },
    {
      "cell_type": "code",
      "metadata": {
        "id": "gdm2FOgf3RKj",
        "colab_type": "code",
        "outputId": "2c3ec9a9-45e3-460b-e17b-4aa64b250780",
        "colab": {
          "base_uri": "https://localhost:8080/",
          "height": 34
        }
      },
      "source": [
        "Y.shape"
      ],
      "execution_count": 0,
      "outputs": [
        {
          "output_type": "execute_result",
          "data": {
            "text/plain": [
              "(208, 1)"
            ]
          },
          "metadata": {
            "tags": []
          },
          "execution_count": 91
        }
      ]
    },
    {
      "cell_type": "code",
      "metadata": {
        "id": "WS9vw3PtCH60",
        "colab_type": "code",
        "colab": {}
      },
      "source": [
        "X = X.astype(float)"
      ],
      "execution_count": 0,
      "outputs": []
    },
    {
      "cell_type": "code",
      "metadata": {
        "id": "iM88l2oeDWuw",
        "colab_type": "code",
        "colab": {}
      },
      "source": [
        "X = X.values"
      ],
      "execution_count": 0,
      "outputs": []
    },
    {
      "cell_type": "markdown",
      "metadata": {
        "id": "wUKiZBWotUln",
        "colab_type": "text"
      },
      "source": [
        "## Model Definition for logistic regression. We have only one Unit in output layer because, the output of which determines either of the two class."
      ]
    },
    {
      "cell_type": "code",
      "metadata": {
        "id": "gP4G_iae5vPS",
        "colab_type": "code",
        "colab": {}
      },
      "source": [
        "model = Sequential()\n",
        "model.add(Dense(60, input_dim=60, activation='relu'))\n",
        "model.add(Dense(30, activation='relu'))\n",
        "model.add(Dense(1, activation='sigmoid'))\n",
        "model.compile(loss='binary_crossentropy', optimizer='adam', metrics=['accuracy'])"
      ],
      "execution_count": 0,
      "outputs": []
    },
    {
      "cell_type": "markdown",
      "metadata": {
        "id": "8SIur354tiNZ",
        "colab_type": "text"
      },
      "source": [
        "## One Hot encoding the Labels"
      ]
    },
    {
      "cell_type": "code",
      "metadata": {
        "id": "IyDGhQpY7nU-",
        "colab_type": "code",
        "outputId": "71b264ee-4dd7-4758-ce9d-0d6c87984c5d",
        "colab": {
          "base_uri": "https://localhost:8080/",
          "height": 106
        }
      },
      "source": [
        "encoder = LabelEncoder()\n",
        "encoder.fit(Y)\n",
        "encoded_Y = encoder.transform(Y)"
      ],
      "execution_count": 0,
      "outputs": [
        {
          "output_type": "stream",
          "text": [
            "/usr/local/lib/python3.6/dist-packages/sklearn/preprocessing/_label.py:235: DataConversionWarning: A column-vector y was passed when a 1d array was expected. Please change the shape of y to (n_samples, ), for example using ravel().\n",
            "  y = column_or_1d(y, warn=True)\n",
            "/usr/local/lib/python3.6/dist-packages/sklearn/preprocessing/_label.py:268: DataConversionWarning: A column-vector y was passed when a 1d array was expected. Please change the shape of y to (n_samples, ), for example using ravel().\n",
            "  y = column_or_1d(y, warn=True)\n"
          ],
          "name": "stderr"
        }
      ]
    },
    {
      "cell_type": "code",
      "metadata": {
        "id": "QJS8pEylEWzN",
        "colab_type": "code",
        "outputId": "a4a82b8f-fa6d-4e09-f3b4-7fe8dd2333b1",
        "colab": {
          "base_uri": "https://localhost:8080/",
          "height": 34
        }
      },
      "source": [
        "type(encoded_Y)"
      ],
      "execution_count": 0,
      "outputs": [
        {
          "output_type": "execute_result",
          "data": {
            "text/plain": [
              "numpy.ndarray"
            ]
          },
          "metadata": {
            "tags": []
          },
          "execution_count": 96
        }
      ]
    },
    {
      "cell_type": "markdown",
      "metadata": {
        "id": "l2Rfd0Tjtk-q",
        "colab_type": "text"
      },
      "source": [
        "## Model Training"
      ]
    },
    {
      "cell_type": "code",
      "metadata": {
        "id": "AQeGtO32FqPh",
        "colab_type": "code",
        "outputId": "087b0c6c-5f99-4672-ff96-9d9cdf298b95",
        "colab": {
          "base_uri": "https://localhost:8080/",
          "height": 1000
        }
      },
      "source": [
        "model.fit(X, encoded_Y, epochs=50)"
      ],
      "execution_count": 0,
      "outputs": [
        {
          "output_type": "stream",
          "text": [
            "Epoch 1/50\n",
            "208/208 [==============================] - 0s 110us/step - loss: 0.4916 - accuracy: 0.7692\n",
            "Epoch 2/50\n",
            "208/208 [==============================] - 0s 100us/step - loss: 0.4826 - accuracy: 0.8029\n",
            "Epoch 3/50\n",
            "208/208 [==============================] - 0s 105us/step - loss: 0.4692 - accuracy: 0.7885\n",
            "Epoch 4/50\n",
            "208/208 [==============================] - 0s 106us/step - loss: 0.4576 - accuracy: 0.7788\n",
            "Epoch 5/50\n",
            "208/208 [==============================] - 0s 115us/step - loss: 0.4505 - accuracy: 0.8365\n",
            "Epoch 6/50\n",
            "208/208 [==============================] - 0s 95us/step - loss: 0.4379 - accuracy: 0.8221\n",
            "Epoch 7/50\n",
            "208/208 [==============================] - 0s 100us/step - loss: 0.4332 - accuracy: 0.8077\n",
            "Epoch 8/50\n",
            "208/208 [==============================] - 0s 101us/step - loss: 0.4222 - accuracy: 0.8221\n",
            "Epoch 9/50\n",
            "208/208 [==============================] - 0s 126us/step - loss: 0.4236 - accuracy: 0.8173\n",
            "Epoch 10/50\n",
            "208/208 [==============================] - 0s 115us/step - loss: 0.4008 - accuracy: 0.8269\n",
            "Epoch 11/50\n",
            "208/208 [==============================] - 0s 100us/step - loss: 0.4008 - accuracy: 0.8269\n",
            "Epoch 12/50\n",
            "208/208 [==============================] - 0s 103us/step - loss: 0.3937 - accuracy: 0.8558\n",
            "Epoch 13/50\n",
            "208/208 [==============================] - 0s 108us/step - loss: 0.3853 - accuracy: 0.8365\n",
            "Epoch 14/50\n",
            "208/208 [==============================] - 0s 115us/step - loss: 0.3836 - accuracy: 0.8413\n",
            "Epoch 15/50\n",
            "208/208 [==============================] - 0s 104us/step - loss: 0.3763 - accuracy: 0.8606\n",
            "Epoch 16/50\n",
            "208/208 [==============================] - 0s 110us/step - loss: 0.3709 - accuracy: 0.8413\n",
            "Epoch 17/50\n",
            "208/208 [==============================] - 0s 102us/step - loss: 0.3618 - accuracy: 0.8702\n",
            "Epoch 18/50\n",
            "208/208 [==============================] - 0s 108us/step - loss: 0.3579 - accuracy: 0.8510\n",
            "Epoch 19/50\n",
            "208/208 [==============================] - 0s 116us/step - loss: 0.3543 - accuracy: 0.8558\n",
            "Epoch 20/50\n",
            "208/208 [==============================] - 0s 111us/step - loss: 0.3518 - accuracy: 0.8462\n",
            "Epoch 21/50\n",
            "208/208 [==============================] - 0s 110us/step - loss: 0.3439 - accuracy: 0.8462\n",
            "Epoch 22/50\n",
            "208/208 [==============================] - 0s 111us/step - loss: 0.3363 - accuracy: 0.8798\n",
            "Epoch 23/50\n",
            "208/208 [==============================] - 0s 115us/step - loss: 0.3306 - accuracy: 0.8654\n",
            "Epoch 24/50\n",
            "208/208 [==============================] - 0s 112us/step - loss: 0.3276 - accuracy: 0.8846\n",
            "Epoch 25/50\n",
            "208/208 [==============================] - 0s 119us/step - loss: 0.3302 - accuracy: 0.8462\n",
            "Epoch 26/50\n",
            "208/208 [==============================] - 0s 107us/step - loss: 0.3169 - accuracy: 0.8894\n",
            "Epoch 27/50\n",
            "208/208 [==============================] - 0s 107us/step - loss: 0.3145 - accuracy: 0.8942\n",
            "Epoch 28/50\n",
            "208/208 [==============================] - 0s 114us/step - loss: 0.3090 - accuracy: 0.8942\n",
            "Epoch 29/50\n",
            "208/208 [==============================] - 0s 109us/step - loss: 0.3012 - accuracy: 0.8894\n",
            "Epoch 30/50\n",
            "208/208 [==============================] - 0s 103us/step - loss: 0.2942 - accuracy: 0.8990\n",
            "Epoch 31/50\n",
            "208/208 [==============================] - 0s 144us/step - loss: 0.2989 - accuracy: 0.8942\n",
            "Epoch 32/50\n",
            "208/208 [==============================] - 0s 100us/step - loss: 0.2914 - accuracy: 0.8894\n",
            "Epoch 33/50\n",
            "208/208 [==============================] - 0s 95us/step - loss: 0.2843 - accuracy: 0.8990\n",
            "Epoch 34/50\n",
            "208/208 [==============================] - 0s 103us/step - loss: 0.2892 - accuracy: 0.8750\n",
            "Epoch 35/50\n",
            "208/208 [==============================] - 0s 110us/step - loss: 0.2789 - accuracy: 0.8942\n",
            "Epoch 36/50\n",
            "208/208 [==============================] - 0s 112us/step - loss: 0.2704 - accuracy: 0.8846\n",
            "Epoch 37/50\n",
            "208/208 [==============================] - 0s 100us/step - loss: 0.2653 - accuracy: 0.9038\n",
            "Epoch 38/50\n",
            "208/208 [==============================] - 0s 106us/step - loss: 0.2625 - accuracy: 0.9087\n",
            "Epoch 39/50\n",
            "208/208 [==============================] - 0s 112us/step - loss: 0.2634 - accuracy: 0.8942\n",
            "Epoch 40/50\n",
            "208/208 [==============================] - 0s 99us/step - loss: 0.2532 - accuracy: 0.9038\n",
            "Epoch 41/50\n",
            "208/208 [==============================] - 0s 130us/step - loss: 0.2563 - accuracy: 0.8990\n",
            "Epoch 42/50\n",
            "208/208 [==============================] - 0s 105us/step - loss: 0.2427 - accuracy: 0.9087\n",
            "Epoch 43/50\n",
            "208/208 [==============================] - 0s 102us/step - loss: 0.2424 - accuracy: 0.9038\n",
            "Epoch 44/50\n",
            "208/208 [==============================] - 0s 100us/step - loss: 0.2330 - accuracy: 0.9183\n",
            "Epoch 45/50\n",
            "208/208 [==============================] - 0s 104us/step - loss: 0.2396 - accuracy: 0.9038\n",
            "Epoch 46/50\n",
            "208/208 [==============================] - 0s 100us/step - loss: 0.2326 - accuracy: 0.9231\n",
            "Epoch 47/50\n",
            "208/208 [==============================] - 0s 103us/step - loss: 0.2252 - accuracy: 0.9135\n",
            "Epoch 48/50\n",
            "208/208 [==============================] - 0s 104us/step - loss: 0.2209 - accuracy: 0.9327\n",
            "Epoch 49/50\n",
            "208/208 [==============================] - 0s 125us/step - loss: 0.2121 - accuracy: 0.9231\n",
            "Epoch 50/50\n",
            "208/208 [==============================] - 0s 108us/step - loss: 0.2123 - accuracy: 0.9231\n"
          ],
          "name": "stdout"
        },
        {
          "output_type": "execute_result",
          "data": {
            "text/plain": [
              "<keras.callbacks.callbacks.History at 0x7f29c10b39e8>"
            ]
          },
          "metadata": {
            "tags": []
          },
          "execution_count": 102
        }
      ]
    }
  ]
}